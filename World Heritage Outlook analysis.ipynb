{
 "cells": [
  {
   "cell_type": "markdown",
   "metadata": {},
   "source": [
    "# World Heritage Outlook analysis 2.0 - 2017 assessment cycle"
   ]
  },
  {
   "cell_type": "markdown",
   "metadata": {},
   "source": [
    "## Data preparation and exploration"
   ]
  },
  {
   "cell_type": "code",
   "execution_count": 47,
   "metadata": {
    "collapsed": true
   },
   "outputs": [],
   "source": [
    "import os, sys\n",
    "import math\n",
    "import numpy as np\n",
    "import pandas as pd\n",
    "import matplotlib.pyplot as plt\n"
   ]
  },
  {
   "cell_type": "code",
   "execution_count": 48,
   "metadata": {},
   "outputs": [
    {
     "name": "stdout",
     "output_type": "stream",
     "text": [
      "WH_attributes_2017.csv                \u001b[35mpotential_threat.csv\u001b[m\u001b[m\r\n",
      "World Heritage Outlook analysis.ipynb \u001b[35mprotection_management.csv\u001b[m\u001b[m\r\n",
      "changed_statistics.csv                \u001b[35mwho_value_current_threat.csv\u001b[m\u001b[m\r\n",
      "\u001b[35mcurrent_threat.csv\u001b[m\u001b[m                    \u001b[35mwho_value_potential_threat.csv\u001b[m\u001b[m\r\n",
      "\u001b[35moverall.csv\u001b[m\u001b[m\r\n"
     ]
    }
   ],
   "source": [
    "!ls"
   ]
  },
  {
   "cell_type": "markdown",
   "metadata": {},
   "source": [
    "Loading data into dataframes"
   ]
  },
  {
   "cell_type": "code",
   "execution_count": 49,
   "metadata": {
    "collapsed": true
   },
   "outputs": [],
   "source": [
    "overall = pd.read_csv('overall.csv', encoding='latin1')\n",
    "current_threat = pd.read_csv('current_threat.csv', encoding='latin1')\n",
    "potential_threat = pd.read_csv('potential_threat.csv', encoding='latin1')\n",
    "protection_management = pd.read_csv('protection_management.csv', encoding='latin1')\n",
    "value_current_threat = pd.read_csv('who_value_current_threat.csv', encoding='latin1')\n",
    "value_potential_threat = pd.read_csv('who_value_potential_threat.csv', encoding='latin1')\n",
    "wh_attr = pd.read_csv('WH_attributes_2017.csv')"
   ]
  },
  {
   "cell_type": "code",
   "execution_count": 50,
   "metadata": {},
   "outputs": [
    {
     "data": {
      "text/plain": [
       "Index([u'wdpa_id', u'screenname', u'status', u'stage', u'name_en',\n",
       "       u'threat_category', u'threat_sub_category', u'potential_threat',\n",
       "       u'rating', u'inside_site', u'outside_site', u'assessment_cycle'],\n",
       "      dtype='object')"
      ]
     },
     "execution_count": 50,
     "metadata": {},
     "output_type": "execute_result"
    }
   ],
   "source": [
    "potential_threat.columns"
   ]
  },
  {
   "cell_type": "code",
   "execution_count": 51,
   "metadata": {},
   "outputs": [
    {
     "data": {
      "text/plain": [
       "Index([u'wdpa_id', u'assessment_version_id', u'screenname', u'status',\n",
       "       u'stage', u'name_en', u'values_', u'criterion', u'current_threat',\n",
       "       u'threat_category', u'threat_sub_category', u'assessment_cycle'],\n",
       "      dtype='object')"
      ]
     },
     "execution_count": 51,
     "metadata": {},
     "output_type": "execute_result"
    }
   ],
   "source": [
    "value_current_threat.columns"
   ]
  },
  {
   "cell_type": "code",
   "execution_count": 52,
   "metadata": {},
   "outputs": [
    {
     "data": {
      "text/plain": [
       "Index([u'wdpa_id', u'screenname', u'status', u'stage', u'name_en', u'outlook',\n",
       "       u'overall_threat', u'current_threat', u'potential_threat', u'prot_mgmt',\n",
       "       u'wh_value', u'wh_trend', u'biodiv_value', u'biodiv_trend', u'language',\n",
       "       u'assessment_cycle'],\n",
       "      dtype='object')"
      ]
     },
     "execution_count": 52,
     "metadata": {},
     "output_type": "execute_result"
    }
   ],
   "source": [
    "overall.columns"
   ]
  },
  {
   "cell_type": "code",
   "execution_count": 53,
   "metadata": {},
   "outputs": [
    {
     "data": {
      "text/plain": [
       "Index([u'wdpa_id', u'screenname', u'status', u'stage', u'name_en',\n",
       "       u'threat_category', u'threat_sub_category', u'rating', u'inside_site',\n",
       "       u'outside_site', u'assessment_version_id', u'assessment_cycle'],\n",
       "      dtype='object')"
      ]
     },
     "execution_count": 53,
     "metadata": {},
     "output_type": "execute_result"
    }
   ],
   "source": [
    "current_threat.columns"
   ]
  },
  {
   "cell_type": "code",
   "execution_count": 54,
   "metadata": {},
   "outputs": [
    {
     "data": {
      "text/plain": [
       "wdpa_id                    int64\n",
       "screenname                object\n",
       "status                    object\n",
       "stage                     object\n",
       "name_en                   object\n",
       "threat_category           object\n",
       "threat_sub_category       object\n",
       "rating                    object\n",
       "inside_site              float64\n",
       "outside_site             float64\n",
       "assessment_version_id      int64\n",
       "assessment_cycle           int64\n",
       "dtype: object"
      ]
     },
     "execution_count": 54,
     "metadata": {},
     "output_type": "execute_result"
    }
   ],
   "source": [
    "current_threat.dtypes"
   ]
  },
  {
   "cell_type": "code",
   "execution_count": 55,
   "metadata": {},
   "outputs": [
    {
     "data": {
      "text/plain": [
       "wdpa_id              int64\n",
       "screenname          object\n",
       "status              object\n",
       "stage               object\n",
       "name_en             object\n",
       "outlook             object\n",
       "overall_threat      object\n",
       "current_threat      object\n",
       "potential_threat    object\n",
       "prot_mgmt           object\n",
       "wh_value            object\n",
       "wh_trend            object\n",
       "biodiv_value        object\n",
       "biodiv_trend        object\n",
       "language             int64\n",
       "assessment_cycle     int64\n",
       "dtype: object"
      ]
     },
     "execution_count": 55,
     "metadata": {},
     "output_type": "execute_result"
    }
   ],
   "source": [
    "overall.dtypes"
   ]
  },
  {
   "cell_type": "code",
   "execution_count": 56,
   "metadata": {},
   "outputs": [
    {
     "data": {
      "text/plain": [
       "(385, 235)"
      ]
     },
     "execution_count": 56,
     "metadata": {},
     "output_type": "execute_result"
    }
   ],
   "source": [
    "overall.index.size, overall.wdpa_id.nunique()"
   ]
  },
  {
   "cell_type": "markdown",
   "metadata": {},
   "source": [
    "## Overall conservation outlook\n",
    "\n",
    "Filters for 2014 and 2017 cycles of assessment"
   ]
  },
  {
   "cell_type": "code",
   "execution_count": 57,
   "metadata": {
    "collapsed": true
   },
   "outputs": [],
   "source": [
    "CYCLE_2017_OVERALL = overall.assessment_cycle == 2017\n",
    "CYCLE_2014_OVERALL = overall.assessment_cycle == 2014"
   ]
  },
  {
   "cell_type": "code",
   "execution_count": 58,
   "metadata": {},
   "outputs": [
    {
     "data": {
      "text/html": [
       "<div>\n",
       "<style>\n",
       "    .dataframe thead tr:only-child th {\n",
       "        text-align: right;\n",
       "    }\n",
       "\n",
       "    .dataframe thead th {\n",
       "        text-align: left;\n",
       "    }\n",
       "\n",
       "    .dataframe tbody tr th {\n",
       "        vertical-align: top;\n",
       "    }\n",
       "</style>\n",
       "<table border=\"1\" class=\"dataframe\">\n",
       "  <thead>\n",
       "    <tr style=\"text-align: right;\">\n",
       "      <th></th>\n",
       "      <th>wdpa_id</th>\n",
       "      <th>screenname</th>\n",
       "      <th>status</th>\n",
       "      <th>stage</th>\n",
       "      <th>name_en</th>\n",
       "      <th>outlook</th>\n",
       "      <th>overall_threat</th>\n",
       "      <th>current_threat</th>\n",
       "      <th>potential_threat</th>\n",
       "      <th>prot_mgmt</th>\n",
       "      <th>wh_value</th>\n",
       "      <th>wh_trend</th>\n",
       "      <th>biodiv_value</th>\n",
       "      <th>biodiv_trend</th>\n",
       "      <th>language</th>\n",
       "      <th>assessment_cycle</th>\n",
       "    </tr>\n",
       "  </thead>\n",
       "  <tbody>\n",
       "    <tr>\n",
       "      <th>0</th>\n",
       "      <td>124388</td>\n",
       "      <td>elena</td>\n",
       "      <td>Completed</td>\n",
       "      <td>Published</td>\n",
       "      <td>Laponian Area</td>\n",
       "      <td>Good</td>\n",
       "      <td>Very Low Threat</td>\n",
       "      <td>Very Low Threat</td>\n",
       "      <td>Low Threat</td>\n",
       "      <td>Highly Effective</td>\n",
       "      <td>Good</td>\n",
       "      <td>Stable</td>\n",
       "      <td>NaN</td>\n",
       "      <td>NaN</td>\n",
       "      <td>1</td>\n",
       "      <td>2014</td>\n",
       "    </tr>\n",
       "    <tr>\n",
       "      <th>1</th>\n",
       "      <td>26653</td>\n",
       "      <td>elena</td>\n",
       "      <td>Completed</td>\n",
       "      <td>Published</td>\n",
       "      <td>Tsingy de Bemaraha Strict Nature Reserve</td>\n",
       "      <td>Good</td>\n",
       "      <td>Low Threat</td>\n",
       "      <td>Low Threat</td>\n",
       "      <td>Data Deficient</td>\n",
       "      <td>Effective</td>\n",
       "      <td>Low Concern</td>\n",
       "      <td>Stable</td>\n",
       "      <td>NaN</td>\n",
       "      <td>NaN</td>\n",
       "      <td>1</td>\n",
       "      <td>2014</td>\n",
       "    </tr>\n",
       "    <tr>\n",
       "      <th>2</th>\n",
       "      <td>20171</td>\n",
       "      <td>elena</td>\n",
       "      <td>Completed</td>\n",
       "      <td>Published</td>\n",
       "      <td>Cliff of Bandiagara (Land of the Dogons)</td>\n",
       "      <td>Significant Concern</td>\n",
       "      <td>High Threat</td>\n",
       "      <td>High Threat</td>\n",
       "      <td>NaN</td>\n",
       "      <td>Serious Concern</td>\n",
       "      <td>High Concern</td>\n",
       "      <td>Deteriorating</td>\n",
       "      <td>Data Deficient</td>\n",
       "      <td>Data Deficient</td>\n",
       "      <td>2</td>\n",
       "      <td>2014</td>\n",
       "    </tr>\n",
       "    <tr>\n",
       "      <th>3</th>\n",
       "      <td>61608</td>\n",
       "      <td>alok</td>\n",
       "      <td>Completed</td>\n",
       "      <td>Published</td>\n",
       "      <td>Rwenzori Mountains National Park</td>\n",
       "      <td>Good with some concerns</td>\n",
       "      <td>Low Threat</td>\n",
       "      <td>Low Threat</td>\n",
       "      <td>Data Deficient</td>\n",
       "      <td>Effective</td>\n",
       "      <td>Low Concern</td>\n",
       "      <td>Data Deficient</td>\n",
       "      <td>Data Deficient</td>\n",
       "      <td>Data Deficient</td>\n",
       "      <td>1</td>\n",
       "      <td>2014</td>\n",
       "    </tr>\n",
       "    <tr>\n",
       "      <th>4</th>\n",
       "      <td>902347</td>\n",
       "      <td>elena</td>\n",
       "      <td>Completed</td>\n",
       "      <td>Published</td>\n",
       "      <td>Cape Floral Region Protected Areas</td>\n",
       "      <td>Good with some concerns</td>\n",
       "      <td>High Threat</td>\n",
       "      <td>High Threat</td>\n",
       "      <td>High Threat</td>\n",
       "      <td>Effective</td>\n",
       "      <td>Low Concern</td>\n",
       "      <td>Stable</td>\n",
       "      <td>NaN</td>\n",
       "      <td>NaN</td>\n",
       "      <td>1</td>\n",
       "      <td>2014</td>\n",
       "    </tr>\n",
       "  </tbody>\n",
       "</table>\n",
       "</div>"
      ],
      "text/plain": [
       "   wdpa_id screenname     status      stage  \\\n",
       "0   124388      elena  Completed  Published   \n",
       "1    26653      elena  Completed  Published   \n",
       "2    20171      elena  Completed  Published   \n",
       "3    61608       alok  Completed  Published   \n",
       "4   902347      elena  Completed  Published   \n",
       "\n",
       "                                    name_en                  outlook  \\\n",
       "0                             Laponian Area                     Good   \n",
       "1  Tsingy de Bemaraha Strict Nature Reserve                     Good   \n",
       "2  Cliff of Bandiagara (Land of the Dogons)      Significant Concern   \n",
       "3          Rwenzori Mountains National Park  Good with some concerns   \n",
       "4        Cape Floral Region Protected Areas  Good with some concerns   \n",
       "\n",
       "    overall_threat   current_threat potential_threat         prot_mgmt  \\\n",
       "0  Very Low Threat  Very Low Threat       Low Threat  Highly Effective   \n",
       "1       Low Threat       Low Threat   Data Deficient         Effective   \n",
       "2      High Threat      High Threat              NaN   Serious Concern   \n",
       "3       Low Threat       Low Threat   Data Deficient         Effective   \n",
       "4      High Threat      High Threat      High Threat         Effective   \n",
       "\n",
       "       wh_value        wh_trend    biodiv_value    biodiv_trend  language  \\\n",
       "0          Good          Stable             NaN             NaN         1   \n",
       "1   Low Concern          Stable             NaN             NaN         1   \n",
       "2  High Concern   Deteriorating  Data Deficient  Data Deficient         2   \n",
       "3   Low Concern  Data Deficient  Data Deficient  Data Deficient         1   \n",
       "4   Low Concern          Stable             NaN             NaN         1   \n",
       "\n",
       "   assessment_cycle  \n",
       "0              2014  \n",
       "1              2014  \n",
       "2              2014  \n",
       "3              2014  \n",
       "4              2014  "
      ]
     },
     "execution_count": 58,
     "metadata": {},
     "output_type": "execute_result"
    }
   ],
   "source": [
    "overall.head()"
   ]
  },
  {
   "cell_type": "markdown",
   "metadata": {},
   "source": [
    "The number of unique records for 2014 and 2017 cycles"
   ]
  },
  {
   "cell_type": "code",
   "execution_count": 59,
   "metadata": {},
   "outputs": [
    {
     "data": {
      "text/plain": [
       "(229, 156)"
      ]
     },
     "execution_count": 59,
     "metadata": {},
     "output_type": "execute_result"
    }
   ],
   "source": [
    "overall[CYCLE_2014_OVERALL].wdpa_id.nunique(), overall[CYCLE_2017_OVERALL].wdpa_id.nunique()"
   ]
  },
  {
   "cell_type": "markdown",
   "metadata": {},
   "source": [
    "Quality checks on the data: what are the sites that are in 2014 but not in 2017 and vice versa? Or what is the number of sites that have two assessments?"
   ]
  },
  {
   "cell_type": "code",
   "execution_count": 60,
   "metadata": {},
   "outputs": [
    {
     "name": "stdout",
     "output_type": "stream",
     "text": [
      "Total number of shared sites between two cycles: 150\n"
     ]
    }
   ],
   "source": [
    "wdpaid_shared_between_cycles = overall[CYCLE_2014_OVERALL].wdpa_id.isin(overall[CYCLE_2017_OVERALL].wdpa_id.values)\n",
    "print('Total number of shared sites between two cycles: {}'.format(wdpaid_shared_between_cycles.sum()))"
   ]
  },
  {
   "cell_type": "markdown",
   "metadata": {},
   "source": [
    "### Overall outlook statistics"
   ]
  },
  {
   "cell_type": "code",
   "execution_count": 61,
   "metadata": {},
   "outputs": [
    {
     "data": {
      "text/html": [
       "<div>\n",
       "<style>\n",
       "    .dataframe thead tr:only-child th {\n",
       "        text-align: right;\n",
       "    }\n",
       "\n",
       "    .dataframe thead th {\n",
       "        text-align: left;\n",
       "    }\n",
       "\n",
       "    .dataframe tbody tr th {\n",
       "        vertical-align: top;\n",
       "    }\n",
       "</style>\n",
       "<table border=\"1\" class=\"dataframe\">\n",
       "  <thead>\n",
       "    <tr style=\"text-align: right;\">\n",
       "      <th>outlook</th>\n",
       "      <th>Critical</th>\n",
       "      <th>Good</th>\n",
       "      <th>Good with some concerns</th>\n",
       "      <th>Significant Concern</th>\n",
       "    </tr>\n",
       "  </thead>\n",
       "  <tbody>\n",
       "    <tr>\n",
       "      <th>wdpa_id</th>\n",
       "      <td>19</td>\n",
       "      <td>47</td>\n",
       "      <td>96</td>\n",
       "      <td>67</td>\n",
       "    </tr>\n",
       "  </tbody>\n",
       "</table>\n",
       "</div>"
      ],
      "text/plain": [
       "outlook  Critical  Good  Good with some concerns  Significant Concern\n",
       "wdpa_id        19    47                       96                   67"
      ]
     },
     "execution_count": 61,
     "metadata": {},
     "output_type": "execute_result"
    }
   ],
   "source": [
    "overall[CYCLE_2014_OVERALL].pivot_table(values='wdpa_id', columns='outlook', aggfunc=np.count_nonzero)"
   ]
  },
  {
   "cell_type": "code",
   "execution_count": 62,
   "metadata": {
    "collapsed": true
   },
   "outputs": [],
   "source": [
    "## create a more generic version of get number statistics\n",
    "def summary_statistics(df, columns, aggfunc=np.count_nonzero):\n",
    "    result = df.pivot_table(values='wdpa_id', columns=columns, aggfunc=aggfunc)\n",
    "    result.index = [' '] # remove wdpa_id as index value\n",
    "    return result"
   ]
  },
  {
   "cell_type": "code",
   "execution_count": 63,
   "metadata": {},
   "outputs": [
    {
     "data": {
      "text/plain": [
       "Index([u'wdpa_id', u'screenname', u'status', u'stage', u'name_en', u'outlook',\n",
       "       u'overall_threat', u'current_threat', u'potential_threat', u'prot_mgmt',\n",
       "       u'wh_value', u'wh_trend', u'biodiv_value', u'biodiv_trend', u'language',\n",
       "       u'assessment_cycle'],\n",
       "      dtype='object')"
      ]
     },
     "execution_count": 63,
     "metadata": {},
     "output_type": "execute_result"
    }
   ],
   "source": [
    "overall[CYCLE_2014_OVERALL].columns"
   ]
  },
  {
   "cell_type": "code",
   "execution_count": 64,
   "metadata": {},
   "outputs": [
    {
     "data": {
      "text/html": [
       "<div>\n",
       "<style>\n",
       "    .dataframe thead tr:only-child th {\n",
       "        text-align: right;\n",
       "    }\n",
       "\n",
       "    .dataframe thead th {\n",
       "        text-align: left;\n",
       "    }\n",
       "\n",
       "    .dataframe tbody tr th {\n",
       "        vertical-align: top;\n",
       "    }\n",
       "</style>\n",
       "<table border=\"1\" class=\"dataframe\">\n",
       "  <thead>\n",
       "    <tr style=\"text-align: right;\">\n",
       "      <th>outlook</th>\n",
       "      <th>Critical</th>\n",
       "      <th>Good</th>\n",
       "      <th>Good with some concerns</th>\n",
       "      <th>Significant Concern</th>\n",
       "    </tr>\n",
       "  </thead>\n",
       "  <tbody>\n",
       "    <tr>\n",
       "      <th></th>\n",
       "      <td>19</td>\n",
       "      <td>47</td>\n",
       "      <td>96</td>\n",
       "      <td>67</td>\n",
       "    </tr>\n",
       "  </tbody>\n",
       "</table>\n",
       "</div>"
      ],
      "text/plain": [
       "outlook  Critical  Good  Good with some concerns  Significant Concern\n",
       "               19    47                       96                   67"
      ]
     },
     "execution_count": 64,
     "metadata": {},
     "output_type": "execute_result"
    }
   ],
   "source": [
    "summary_statistics(overall[CYCLE_2014_OVERALL], 'outlook')"
   ]
  },
  {
   "cell_type": "code",
   "execution_count": 65,
   "metadata": {
    "collapsed": true
   },
   "outputs": [],
   "source": [
    "a = summary_statistics(overall[CYCLE_2014_OVERALL], 'current_threat')"
   ]
  },
  {
   "cell_type": "code",
   "execution_count": 66,
   "metadata": {},
   "outputs": [
    {
     "data": {
      "text/plain": [
       "pandas.core.frame.DataFrame"
      ]
     },
     "execution_count": 66,
     "metadata": {},
     "output_type": "execute_result"
    }
   ],
   "source": [
    "type(a)"
   ]
  },
  {
   "cell_type": "code",
   "execution_count": 67,
   "metadata": {},
   "outputs": [
    {
     "name": "stdout",
     "output_type": "stream",
     "text": [
      "status  Completed  In Progress\n",
      "              228            1\n",
      "stage  Approved  Assessment  Published  Translated\n",
      "              1           1        224           3\n",
      "outlook  Critical  Good  Good with some concerns  Significant Concern\n",
      "               19    47                       96                   67\n",
      "overall_threat  High Threat  Low Threat  Very High Threat  Very Low Threat\n",
      "                         90          88                33               18\n",
      "current_threat  High Threat  Low Threat  Very High Threat  Very Low Threat\n",
      "                         89          91                30               19\n",
      "potential_threat  Data Deficient  High Threat  Low Threat  Very High Threat  \\\n",
      "                              26           84          71                24   \n",
      "\n",
      "potential_threat  Very Low Threat  \n",
      "                               15  \n",
      "prot_mgmt  Effective  Highly Effective  Serious Concern  Some Concern\n",
      "                 103                23               29            74\n",
      "wh_value  Critical  Good  High Concern  Low Concern\n",
      "                10    57            58          104\n",
      "wh_trend  Data Deficient  Deteriorating  Improving  Stable\n",
      "                      44             59         12     114\n",
      "biodiv_value  Critical  Data Deficient  Good  High Concern  Low Concern\n",
      "                     2              27    12            33           38\n",
      "biodiv_trend  Data Deficient  Deteriorating  Improving  Stable\n",
      "                          58             22          4      28\n",
      "language    1   2  3\n",
      "          213  12  4\n"
     ]
    }
   ],
   "source": [
    "cols = [u'status', u'stage', u'outlook', u'overall_threat', u'current_threat', u'potential_threat', u'prot_mgmt', u'wh_value', u'wh_trend', u'biodiv_value', u'biodiv_trend', u'language']\n",
    "for col in cols:\n",
    "    print summary_statistics(overall[CYCLE_2014_OVERALL], col)"
   ]
  },
  {
   "cell_type": "code",
   "execution_count": 68,
   "metadata": {},
   "outputs": [
    {
     "name": "stdout",
     "output_type": "stream",
     "text": [
      "status  Completed  In Progress\n",
      "               48          108\n",
      "stage  Assessment\n",
      "              156\n",
      "outlook  Critical  Good  Good with some concerns  Significant Concern\n",
      "               13    21                       68                   49\n",
      "overall_threat  Data Deficient  High Threat  Low Threat  Very High Threat  \\\n",
      "                             1           67          51                22   \n",
      "\n",
      "overall_threat  Very Low Threat  \n",
      "                             10  \n",
      "current_threat  Data Deficient  High Threat  Low Threat  Very High Threat  \\\n",
      "                             1           64          54                22   \n",
      "\n",
      "current_threat  Very Low Threat  \n",
      "                             10  \n",
      "potential_threat  Data Deficient  High Threat  Low Threat  Very High Threat  \\\n",
      "                              14           59          47                17   \n",
      "\n",
      "potential_threat  Very Low Threat  \n",
      "                                8  \n",
      "prot_mgmt  Effective  Highly Effective  Serious Concern  Some Concern\n",
      "                  57                11               20            62\n",
      "wh_value  Critical  Good  High Concern  Low Concern\n",
      "                 7    38            44           62\n",
      "wh_trend  Data Deficient  Deteriorating  Improving  Stable\n",
      "                      23             47          9      72\n",
      "biodiv_value  Critical  Data Deficient  Good  High Concern  Low Concern\n",
      "                     1              18    10            26           23\n",
      "biodiv_trend  Data Deficient  Deteriorating  Improving  Stable\n",
      "                          34             21          7      16\n",
      "language    1   2  3\n",
      "          142  11  3\n"
     ]
    }
   ],
   "source": [
    "cols = [u'status', u'stage', u'outlook', u'overall_threat', u'current_threat', u'potential_threat', u'prot_mgmt', u'wh_value', u'wh_trend', u'biodiv_value', u'biodiv_trend', u'language']\n",
    "for col in cols:\n",
    "    print summary_statistics(overall[CYCLE_2017_OVERALL], col)"
   ]
  },
  {
   "cell_type": "markdown",
   "metadata": {},
   "source": [
    "By adding further filters, such as regions/countries/(other attributes), in the form of list of wdpaids, it can calculate statistics reusing the `summary_statistics` function. TBD: apply wdpaid filter, perhaps `isin`"
   ]
  },
  {
   "cell_type": "markdown",
   "metadata": {},
   "source": [
    "### Overall outlook viz\n",
    "Investigate visualisation options"
   ]
  },
  {
   "cell_type": "code",
   "execution_count": 69,
   "metadata": {},
   "outputs": [
    {
     "name": "stdout",
     "output_type": "stream",
     "text": [
      "[u'seaborn-darkgrid', u'seaborn-notebook', u'classic', u'seaborn-ticks', u'grayscale', u'bmh', u'seaborn-talk', u'dark_background', u'ggplot', u'fivethirtyeight', u'seaborn-colorblind', u'seaborn-deep', u'seaborn-whitegrid', u'seaborn-bright', u'seaborn-poster', u'seaborn-muted', u'seaborn-paper', u'seaborn-white', u'seaborn-pastel', u'seaborn-dark', u'seaborn-dark-palette']\n"
     ]
    }
   ],
   "source": [
    "print(plt.style.available)"
   ]
  },
  {
   "cell_type": "code",
   "execution_count": 70,
   "metadata": {
    "collapsed": true
   },
   "outputs": [],
   "source": [
    "plt.style.use('ggplot')"
   ]
  },
  {
   "cell_type": "code",
   "execution_count": 71,
   "metadata": {},
   "outputs": [
    {
     "data": {
      "text/plain": [
       "<matplotlib.axes._subplots.AxesSubplot at 0x108fb9490>"
      ]
     },
     "execution_count": 71,
     "metadata": {},
     "output_type": "execute_result"
    }
   ],
   "source": [
    "summary_statistics(overall[CYCLE_2014_OVERALL], 'outlook').plot.barh(stacked=True)"
   ]
  },
  {
   "cell_type": "code",
   "execution_count": 72,
   "metadata": {
    "collapsed": true
   },
   "outputs": [],
   "source": [
    "def plot_outlook(df):\n",
    "    # use WHO colour scheme\n",
    "    red, orange, green, deep_green, grey =('#E22626','#F69220', '#ACCD73', '#49AA4A', '#A0A0A0')\n",
    "    fig, axes = plt.subplots(1, figsize=(20, 2))\n",
    "    \n",
    "    my_colors = [deep_green, green, orange, red]\n",
    "    my_labels = ['Good', 'Good with some concerns', 'Significant Concern', 'Critical']\n",
    "    data = df[my_labels]\n",
    "\n",
    "    c = data.plot.barh(ax=axes, stacked=True, color=my_colors)\n",
    "    axes.set_xlim([0, data.values.sum()])\n",
    "    axes.legend_.remove()\n",
    "    \n",
    "    # ensure all 1-d array to zip, thus flatten\n",
    "    for value, value_cum, label in zip(data.values.flatten(), data.values.cumsum(), my_labels):\n",
    "        axes.annotate(label + ' ({})'.format(value), (value_cum - value/2.0, 0),\n",
    "                      horizontalalignment='center', verticalalignment='center')\n",
    "    \n",
    "    return fig"
   ]
  },
  {
   "cell_type": "code",
   "execution_count": 73,
   "metadata": {
    "collapsed": true
   },
   "outputs": [],
   "source": [
    "## a genric plot function, requiring the scheme to be sorted before hand\n",
    "def plot_summary_statistics(df):\n",
    "    # use WHO colour scheme\n",
    "    red, orange, green, deep_green, grey =('#E22626','#F69220', '#ACCD73', '#49AA4A', '#A0A0A0')\n",
    "    fig, axes = plt.subplots(1, figsize=(20, 2))\n",
    "    \n",
    "    my_colors = [deep_green, green, orange, red, grey]\n",
    "    my_labels = df.columns\n",
    "    data = df\n",
    "\n",
    "    c = data.plot.barh(ax=axes, stacked=True, color=my_colors)\n",
    "    axes.set_xlim([0, data.values.sum()])\n",
    "    axes.legend_.remove()\n",
    "    \n",
    "    # ensure all 1-d array to zip, thus flatten\n",
    "    for value, value_cum, label in zip(data.values.flatten(), data.values.cumsum(), my_labels):\n",
    "        axes.annotate(label + ' ({})'.format(value), (value_cum - value/2.0, 0),\n",
    "                      horizontalalignment='center', verticalalignment='center')\n",
    "    \n",
    "    return fig"
   ]
  },
  {
   "cell_type": "code",
   "execution_count": 74,
   "metadata": {},
   "outputs": [
    {
     "data": {
      "image/png": "[encoded data removed]",
      "text/plain": [
       "<matplotlib.figure.Figure at 0x104aeed90>"
      ]
     },
     "execution_count": 74,
     "metadata": {},
     "output_type": "execute_result"
    }
   ],
   "source": [
    "plot_outlook(summary_statistics(overall[CYCLE_2014_OVERALL], 'outlook'))"
   ]
  },
  {
   "cell_type": "code",
   "execution_count": 75,
   "metadata": {},
   "outputs": [
    {
     "data": {
      "image/png": "[encoded data removed]",
      "text/plain": [
       "<matplotlib.figure.Figure at 0x10978b9d0>"
      ]
     },
     "execution_count": 75,
     "metadata": {},
     "output_type": "execute_result"
    }
   ],
   "source": [
    "plot_outlook(summary_statistics(overall[CYCLE_2017_OVERALL], 'outlook'))"
   ]
  },
  {
   "cell_type": "markdown",
   "metadata": {},
   "source": [
    "Testing generic statistics ploting function, noting the need to re-order columns"
   ]
  },
  {
   "cell_type": "code",
   "execution_count": 76,
   "metadata": {
    "scrolled": false
   },
   "outputs": [
    {
     "data": {
      "image/png": "[encoded data removed]",
      "text/plain": [
       "<matplotlib.figure.Figure at 0x1090606d0>"
      ]
     },
     "execution_count": 76,
     "metadata": {},
     "output_type": "execute_result"
    }
   ],
   "source": [
    "plot_summary_statistics(summary_statistics(overall[CYCLE_2014_OVERALL], 'potential_threat')[['Very Low Threat','Low Threat','High Threat','Very High Threat', 'Data Deficient']])"
   ]
  },
  {
   "cell_type": "code",
   "execution_count": 77,
   "metadata": {
    "scrolled": true
   },
   "outputs": [
    {
     "data": {
      "image/png": "[encoded data removed]",
      "text/plain": [
       "<matplotlib.figure.Figure at 0x109060d90>"
      ]
     },
     "execution_count": 77,
     "metadata": {},
     "output_type": "execute_result"
    }
   ],
   "source": [
    "plot_summary_statistics(summary_statistics(overall[CYCLE_2017_OVERALL], 'potential_threat')[['Very Low Threat','Low Threat','High Threat','Very High Threat', 'Data Deficient']])"
   ]
  },
  {
   "cell_type": "markdown",
   "metadata": {},
   "source": [
    "### Detect change from 2014 and 2017\n",
    "\n",
    "It would be desirable during analysis to understand what change may have happened for each site (if any) "
   ]
  },
  {
   "cell_type": "code",
   "execution_count": 78,
   "metadata": {
    "collapsed": true
   },
   "outputs": [],
   "source": [
    "b = overall[overall.wdpa_id == 191]"
   ]
  },
  {
   "cell_type": "code",
   "execution_count": 79,
   "metadata": {},
   "outputs": [
    {
     "data": {
      "text/html": [
       "<div>\n",
       "<style>\n",
       "    .dataframe thead tr:only-child th {\n",
       "        text-align: right;\n",
       "    }\n",
       "\n",
       "    .dataframe thead th {\n",
       "        text-align: left;\n",
       "    }\n",
       "\n",
       "    .dataframe tbody tr th {\n",
       "        vertical-align: top;\n",
       "    }\n",
       "</style>\n",
       "<table border=\"1\" class=\"dataframe\">\n",
       "  <thead>\n",
       "    <tr style=\"text-align: right;\">\n",
       "      <th></th>\n",
       "      <th>wdpa_id</th>\n",
       "      <th>screenname</th>\n",
       "      <th>status</th>\n",
       "      <th>stage</th>\n",
       "      <th>name_en</th>\n",
       "      <th>outlook</th>\n",
       "      <th>overall_threat</th>\n",
       "      <th>current_threat</th>\n",
       "      <th>potential_threat</th>\n",
       "      <th>prot_mgmt</th>\n",
       "      <th>wh_value</th>\n",
       "      <th>wh_trend</th>\n",
       "      <th>biodiv_value</th>\n",
       "      <th>biodiv_trend</th>\n",
       "      <th>language</th>\n",
       "      <th>assessment_cycle</th>\n",
       "    </tr>\n",
       "  </thead>\n",
       "  <tbody>\n",
       "    <tr>\n",
       "      <th>177</th>\n",
       "      <td>191</td>\n",
       "      <td>elena</td>\n",
       "      <td>Completed</td>\n",
       "      <td>Published</td>\n",
       "      <td>Galápagos Islands</td>\n",
       "      <td>Significant Concern</td>\n",
       "      <td>Very High Threat</td>\n",
       "      <td>Very High Threat</td>\n",
       "      <td>Very High Threat</td>\n",
       "      <td>Effective</td>\n",
       "      <td>High Concern</td>\n",
       "      <td>Deteriorating</td>\n",
       "      <td>High Concern</td>\n",
       "      <td>Deteriorating</td>\n",
       "      <td>1</td>\n",
       "      <td>2014</td>\n",
       "    </tr>\n",
       "    <tr>\n",
       "      <th>258</th>\n",
       "      <td>191</td>\n",
       "      <td>wendy</td>\n",
       "      <td>In Progress</td>\n",
       "      <td>Assessment</td>\n",
       "      <td>Galápagos Islands</td>\n",
       "      <td>Significant Concern</td>\n",
       "      <td>Very High Threat</td>\n",
       "      <td>Very High Threat</td>\n",
       "      <td>Very High Threat</td>\n",
       "      <td>Effective</td>\n",
       "      <td>High Concern</td>\n",
       "      <td>Deteriorating</td>\n",
       "      <td>High Concern</td>\n",
       "      <td>Deteriorating</td>\n",
       "      <td>1</td>\n",
       "      <td>2017</td>\n",
       "    </tr>\n",
       "  </tbody>\n",
       "</table>\n",
       "</div>"
      ],
      "text/plain": [
       "     wdpa_id screenname       status       stage            name_en  \\\n",
       "177      191      elena    Completed   Published  Galápagos Islands   \n",
       "258      191      wendy  In Progress  Assessment  Galápagos Islands   \n",
       "\n",
       "                 outlook    overall_threat    current_threat  \\\n",
       "177  Significant Concern  Very High Threat  Very High Threat   \n",
       "258  Significant Concern  Very High Threat  Very High Threat   \n",
       "\n",
       "     potential_threat  prot_mgmt      wh_value       wh_trend  biodiv_value  \\\n",
       "177  Very High Threat  Effective  High Concern  Deteriorating  High Concern   \n",
       "258  Very High Threat  Effective  High Concern  Deteriorating  High Concern   \n",
       "\n",
       "      biodiv_trend  language  assessment_cycle  \n",
       "177  Deteriorating         1              2014  \n",
       "258  Deteriorating         1              2017  "
      ]
     },
     "execution_count": 79,
     "metadata": {},
     "output_type": "execute_result"
    }
   ],
   "source": [
    "b"
   ]
  },
  {
   "cell_type": "code",
   "execution_count": 80,
   "metadata": {
    "collapsed": true
   },
   "outputs": [],
   "source": [
    "def bb(df):\n",
    "    ## 0 indicate different values in the series\n",
    "    if df.screenname.duplicated(False).sum() == 0:\n",
    "        return df.outlook\n",
    "    ## either same value or one value only (only one cycle of assessment)\n",
    "    else:\n",
    "        return pd.Series(['-'])\n",
    "    \n",
    "# def apply_comparison(df):\n",
    "#     df[field]"
   ]
  },
  {
   "cell_type": "code",
   "execution_count": 81,
   "metadata": {},
   "outputs": [
    {
     "name": "stdout",
     "output_type": "stream",
     "text": [
      "191      wdpa_id screenname       status       stage            name_en  \\\n",
      "177      191      elena    Completed   Published  Galápagos Islands   \n",
      "258      191      wendy  In Progress  Assessment  Galápagos Islands   \n",
      "\n",
      "                 outlook    overall_threat    current_threat  \\\n",
      "177  Significant Concern  Very High Threat  Very High Threat   \n",
      "258  Significant Concern  Very High Threat  Very High Threat   \n",
      "\n",
      "     potential_threat  prot_mgmt      wh_value       wh_trend  biodiv_value  \\\n",
      "177  Very High Threat  Effective  High Concern  Deteriorating  High Concern   \n",
      "258  Very High Threat  Effective  High Concern  Deteriorating  High Concern   \n",
      "\n",
      "      biodiv_trend  language  assessment_cycle  \n",
      "177  Deteriorating         1              2014  \n",
      "258  Deteriorating         1              2017  \n"
     ]
    }
   ],
   "source": [
    "for key, group in b.groupby('wdpa_id'):\n",
    "    print key, group"
   ]
  },
  {
   "cell_type": "code",
   "execution_count": 82,
   "metadata": {},
   "outputs": [
    {
     "data": {
      "text/html": [
       "<div>\n",
       "<style>\n",
       "    .dataframe thead tr:only-child th {\n",
       "        text-align: right;\n",
       "    }\n",
       "\n",
       "    .dataframe thead th {\n",
       "        text-align: left;\n",
       "    }\n",
       "\n",
       "    .dataframe tbody tr th {\n",
       "        vertical-align: top;\n",
       "    }\n",
       "</style>\n",
       "<table border=\"1\" class=\"dataframe\">\n",
       "  <thead>\n",
       "    <tr style=\"text-align: right;\">\n",
       "      <th>outlook</th>\n",
       "      <th>177</th>\n",
       "      <th>258</th>\n",
       "    </tr>\n",
       "    <tr>\n",
       "      <th>wdpa_id</th>\n",
       "      <th></th>\n",
       "      <th></th>\n",
       "    </tr>\n",
       "  </thead>\n",
       "  <tbody>\n",
       "    <tr>\n",
       "      <th>191</th>\n",
       "      <td>Significant Concern</td>\n",
       "      <td>Significant Concern</td>\n",
       "    </tr>\n",
       "  </tbody>\n",
       "</table>\n",
       "</div>"
      ],
      "text/plain": [
       "outlook                  177                  258\n",
       "wdpa_id                                          \n",
       "191      Significant Concern  Significant Concern"
      ]
     },
     "execution_count": 82,
     "metadata": {},
     "output_type": "execute_result"
    }
   ],
   "source": [
    "b.groupby('wdpa_id').apply(bb)"
   ]
  },
  {
   "cell_type": "markdown",
   "metadata": {},
   "source": [
    "try a different way to detect changes"
   ]
  },
  {
   "cell_type": "code",
   "execution_count": 83,
   "metadata": {
    "collapsed": true
   },
   "outputs": [],
   "source": [
    "wdpaid_shared_between_cycles = overall[CYCLE_2014_OVERALL].wdpa_id.isin(overall[CYCLE_2017_OVERALL].wdpa_id.values)"
   ]
  },
  {
   "cell_type": "code",
   "execution_count": 84,
   "metadata": {
    "collapsed": true
   },
   "outputs": [],
   "source": [
    "common_wdpaids = overall[CYCLE_2014_OVERALL].wdpa_id[wdpaid_shared_between_cycles]"
   ]
  },
  {
   "cell_type": "code",
   "execution_count": 85,
   "metadata": {},
   "outputs": [
    {
     "data": {
      "text/plain": [
       "0         124388\n",
       "1          26653\n",
       "3          61608\n",
       "4         902347\n",
       "5           4328\n",
       "7         145583\n",
       "9         903134\n",
       "10         17761\n",
       "12          4999\n",
       "13        124389\n",
       "14          2010\n",
       "15        902487\n",
       "16         67727\n",
       "17          4322\n",
       "18        478640\n",
       "19        168242\n",
       "20        900630\n",
       "21     555512001\n",
       "22         10745\n",
       "24        220292\n",
       "25         18862\n",
       "26          4326\n",
       "28     555556046\n",
       "29        903129\n",
       "30        478637\n",
       "31        902481\n",
       "32        903130\n",
       "33          2570\n",
       "35        145586\n",
       "36          4327\n",
       "         ...    \n",
       "179       145582\n",
       "180         9614\n",
       "181         9623\n",
       "182         2554\n",
       "183    555547990\n",
       "185         2012\n",
       "188        12206\n",
       "190         2007\n",
       "191        68918\n",
       "193        17757\n",
       "197       900633\n",
       "200        18337\n",
       "202         2004\n",
       "203       220294\n",
       "205        12896\n",
       "206         2013\n",
       "207         2577\n",
       "208        10902\n",
       "209       198294\n",
       "215       900006\n",
       "216        61611\n",
       "217       198291\n",
       "219       900629\n",
       "220         5001\n",
       "222        17759\n",
       "223        67728\n",
       "224        61604\n",
       "225       198302\n",
       "226         5004\n",
       "227         2018\n",
       "Name: wdpa_id, Length: 150, dtype: int64"
      ]
     },
     "execution_count": 85,
     "metadata": {},
     "output_type": "execute_result"
    }
   ],
   "source": [
    "common_wdpaids"
   ]
  },
  {
   "cell_type": "code",
   "execution_count": 86,
   "metadata": {},
   "outputs": [
    {
     "data": {
      "text/plain": [
       "[u'wdpa_id',\n",
       " u'screenname',\n",
       " u'status',\n",
       " u'stage',\n",
       " u'name_en',\n",
       " u'outlook',\n",
       " u'overall_threat',\n",
       " u'current_threat',\n",
       " u'potential_threat',\n",
       " u'prot_mgmt',\n",
       " u'wh_value',\n",
       " u'wh_trend',\n",
       " u'biodiv_value',\n",
       " u'biodiv_trend',\n",
       " u'language',\n",
       " u'assessment_cycle']"
      ]
     },
     "execution_count": 86,
     "metadata": {},
     "output_type": "execute_result"
    }
   ],
   "source": [
    "overall.columns.tolist()"
   ]
  },
  {
   "cell_type": "markdown",
   "metadata": {},
   "source": [
    "Only the WDPAID is the unique identifier re rows, but en_name is useful for checks"
   ]
  },
  {
   "cell_type": "code",
   "execution_count": 87,
   "metadata": {
    "collapsed": true
   },
   "outputs": [],
   "source": [
    "def detect_change_col(wdpaid, df, col):\n",
    "    \"\"\"\"one row per cycle, i.e. one to one relationship\"\"\"\n",
    "    # brutal force not efficient, first row\n",
    "    value_2017 = df[(df.assessment_cycle==2017) & (df.wdpa_id==wdpaid)][col].iloc[0]\n",
    "    value_2014 = df[(df.assessment_cycle==2014) & (df.wdpa_id==wdpaid)][col].iloc[0]\n",
    "    \n",
    "    if value_2017 == value_2014:\n",
    "        return None\n",
    "    \n",
    "    # if both variables are of type float and nan, don't do anything\n",
    "    elif isinstance(value_2017, float) and isinstance(value_2014, float):\n",
    "        if math.isnan(value_2017) and math.isnan(value_2014):\n",
    "            return None\n",
    "        \n",
    "    # detected change, record\n",
    "    else:\n",
    "        return ' -> '.join(map(str, [value_2014, value_2017]))\n",
    "\n",
    "def detect_change_df(df):\n",
    "    output = list()\n",
    "    \n",
    "    # go through all fields and remove unnecesary fields\n",
    "    excluded_cols = ['wdpa_id', 'screenname', 'status', 'stage', 'assessment_cycle']\n",
    "    cols = df.columns.tolist()\n",
    "\n",
    "    for excluded_col in excluded_cols:\n",
    "        if excluded_col in cols:\n",
    "            cols.remove(excluded_col)\n",
    "    \n",
    "    # for each site do detection check\n",
    "    for wdpaid in common_wdpaids:\n",
    "        for col in cols:\n",
    "            result = detect_change_col(wdpaid, df, col)\n",
    "            # if detected\n",
    "            if result:\n",
    "                output.append([wdpaid, col, result])\n",
    "    \n",
    "    # append en_name \n",
    "    output_df = pd.DataFrame(data=output, columns=['wdpaid', 'column', 'value'])\n",
    "    output_full = pd.merge(output_df, wh_attr, how='inner', on='wdpaid')[['wdpaid', 'en_name', 'column', 'value']]\n",
    "    \n",
    "    return output_full"
   ]
  },
  {
   "cell_type": "code",
   "execution_count": 88,
   "metadata": {
    "collapsed": true
   },
   "outputs": [],
   "source": [
    "changed_stats = detect_change_df(overall)"
   ]
  },
  {
   "cell_type": "code",
   "execution_count": 89,
   "metadata": {
    "collapsed": true
   },
   "outputs": [],
   "source": [
    "changed_stats.to_csv('changed_statistics.csv', encoding='utf-8')"
   ]
  },
  {
   "cell_type": "code",
   "execution_count": 90,
   "metadata": {},
   "outputs": [
    {
     "data": {
      "text/html": [
       "<div>\n",
       "<style>\n",
       "    .dataframe thead tr:only-child th {\n",
       "        text-align: right;\n",
       "    }\n",
       "\n",
       "    .dataframe thead th {\n",
       "        text-align: left;\n",
       "    }\n",
       "\n",
       "    .dataframe tbody tr th {\n",
       "        vertical-align: top;\n",
       "    }\n",
       "</style>\n",
       "<table border=\"1\" class=\"dataframe\">\n",
       "  <thead>\n",
       "    <tr style=\"text-align: right;\">\n",
       "      <th></th>\n",
       "      <th>wdpaid</th>\n",
       "      <th>en_name</th>\n",
       "      <th>column</th>\n",
       "      <th>value</th>\n",
       "    </tr>\n",
       "  </thead>\n",
       "  <tbody>\n",
       "    <tr>\n",
       "      <th>0</th>\n",
       "      <td>26653</td>\n",
       "      <td>Tsingy de Bemaraha Strict Nature Reserve</td>\n",
       "      <td>outlook</td>\n",
       "      <td>Good -&gt; Good with some concerns</td>\n",
       "    </tr>\n",
       "    <tr>\n",
       "      <th>1</th>\n",
       "      <td>26653</td>\n",
       "      <td>Tsingy de Bemaraha Strict Nature Reserve</td>\n",
       "      <td>overall_threat</td>\n",
       "      <td>Low Threat -&gt; High Threat</td>\n",
       "    </tr>\n",
       "    <tr>\n",
       "      <th>2</th>\n",
       "      <td>26653</td>\n",
       "      <td>Tsingy de Bemaraha Strict Nature Reserve</td>\n",
       "      <td>current_threat</td>\n",
       "      <td>Low Threat -&gt; High Threat</td>\n",
       "    </tr>\n",
       "    <tr>\n",
       "      <th>3</th>\n",
       "      <td>26653</td>\n",
       "      <td>Tsingy de Bemaraha Strict Nature Reserve</td>\n",
       "      <td>potential_threat</td>\n",
       "      <td>Data Deficient -&gt; Low Threat</td>\n",
       "    </tr>\n",
       "    <tr>\n",
       "      <th>4</th>\n",
       "      <td>26653</td>\n",
       "      <td>Tsingy de Bemaraha Strict Nature Reserve</td>\n",
       "      <td>prot_mgmt</td>\n",
       "      <td>Effective -&gt; nan</td>\n",
       "    </tr>\n",
       "    <tr>\n",
       "      <th>5</th>\n",
       "      <td>26653</td>\n",
       "      <td>Tsingy de Bemaraha Strict Nature Reserve</td>\n",
       "      <td>wh_value</td>\n",
       "      <td>Low Concern -&gt; Good</td>\n",
       "    </tr>\n",
       "    <tr>\n",
       "      <th>6</th>\n",
       "      <td>26653</td>\n",
       "      <td>Tsingy de Bemaraha Strict Nature Reserve</td>\n",
       "      <td>biodiv_value</td>\n",
       "      <td>nan -&gt; Good</td>\n",
       "    </tr>\n",
       "    <tr>\n",
       "      <th>7</th>\n",
       "      <td>26653</td>\n",
       "      <td>Tsingy de Bemaraha Strict Nature Reserve</td>\n",
       "      <td>biodiv_trend</td>\n",
       "      <td>nan -&gt; Stable</td>\n",
       "    </tr>\n",
       "    <tr>\n",
       "      <th>8</th>\n",
       "      <td>26653</td>\n",
       "      <td>Tsingy de Bemaraha Strict Nature Reserve</td>\n",
       "      <td>language</td>\n",
       "      <td>1 -&gt; 2</td>\n",
       "    </tr>\n",
       "    <tr>\n",
       "      <th>9</th>\n",
       "      <td>61608</td>\n",
       "      <td>Rwenzori Mountains National Park</td>\n",
       "      <td>prot_mgmt</td>\n",
       "      <td>Effective -&gt; Some Concern</td>\n",
       "    </tr>\n",
       "    <tr>\n",
       "      <th>10</th>\n",
       "      <td>902347</td>\n",
       "      <td>Cape Floral Region Protected Areas</td>\n",
       "      <td>outlook</td>\n",
       "      <td>Good with some concerns -&gt; Significant Concern</td>\n",
       "    </tr>\n",
       "    <tr>\n",
       "      <th>11</th>\n",
       "      <td>902347</td>\n",
       "      <td>Cape Floral Region Protected Areas</td>\n",
       "      <td>prot_mgmt</td>\n",
       "      <td>Effective -&gt; Some Concern</td>\n",
       "    </tr>\n",
       "    <tr>\n",
       "      <th>12</th>\n",
       "      <td>902347</td>\n",
       "      <td>Cape Floral Region Protected Areas</td>\n",
       "      <td>wh_value</td>\n",
       "      <td>Low Concern -&gt; High Concern</td>\n",
       "    </tr>\n",
       "    <tr>\n",
       "      <th>13</th>\n",
       "      <td>902347</td>\n",
       "      <td>Cape Floral Region Protected Areas</td>\n",
       "      <td>wh_trend</td>\n",
       "      <td>Stable -&gt; Deteriorating</td>\n",
       "    </tr>\n",
       "    <tr>\n",
       "      <th>14</th>\n",
       "      <td>17761</td>\n",
       "      <td>Kilimanjaro National Park</td>\n",
       "      <td>biodiv_value</td>\n",
       "      <td>Data Deficient -&gt; Low Concern</td>\n",
       "    </tr>\n",
       "    <tr>\n",
       "      <th>15</th>\n",
       "      <td>17761</td>\n",
       "      <td>Kilimanjaro National Park</td>\n",
       "      <td>biodiv_trend</td>\n",
       "      <td>Data Deficient -&gt; Deteriorating</td>\n",
       "    </tr>\n",
       "    <tr>\n",
       "      <th>16</th>\n",
       "      <td>4999</td>\n",
       "      <td>Tassili n'Ajjer</td>\n",
       "      <td>overall_threat</td>\n",
       "      <td>High Threat -&gt; Data Deficient</td>\n",
       "    </tr>\n",
       "    <tr>\n",
       "      <th>17</th>\n",
       "      <td>4999</td>\n",
       "      <td>Tassili n'Ajjer</td>\n",
       "      <td>current_threat</td>\n",
       "      <td>High Threat -&gt; Data Deficient</td>\n",
       "    </tr>\n",
       "    <tr>\n",
       "      <th>18</th>\n",
       "      <td>4999</td>\n",
       "      <td>Tassili n'Ajjer</td>\n",
       "      <td>wh_value</td>\n",
       "      <td>Low Concern -&gt; Good</td>\n",
       "    </tr>\n",
       "    <tr>\n",
       "      <th>19</th>\n",
       "      <td>2010</td>\n",
       "      <td>Ngorongoro Conservation Area</td>\n",
       "      <td>biodiv_value</td>\n",
       "      <td>nan -&gt; Low Concern</td>\n",
       "    </tr>\n",
       "    <tr>\n",
       "      <th>20</th>\n",
       "      <td>2010</td>\n",
       "      <td>Ngorongoro Conservation Area</td>\n",
       "      <td>biodiv_trend</td>\n",
       "      <td>nan -&gt; Data Deficient</td>\n",
       "    </tr>\n",
       "    <tr>\n",
       "      <th>21</th>\n",
       "      <td>902487</td>\n",
       "      <td>Wadi Al-Hitan (Whale Valley)</td>\n",
       "      <td>outlook</td>\n",
       "      <td>Good -&gt; Good with some concerns</td>\n",
       "    </tr>\n",
       "    <tr>\n",
       "      <th>22</th>\n",
       "      <td>67727</td>\n",
       "      <td>Aïr and Ténéré Natural Reserves</td>\n",
       "      <td>potential_threat</td>\n",
       "      <td>Data Deficient -&gt; High Threat</td>\n",
       "    </tr>\n",
       "    <tr>\n",
       "      <th>23</th>\n",
       "      <td>67727</td>\n",
       "      <td>Aïr and Ténéré Natural Reserves</td>\n",
       "      <td>prot_mgmt</td>\n",
       "      <td>Serious Concern -&gt; Some Concern</td>\n",
       "    </tr>\n",
       "    <tr>\n",
       "      <th>24</th>\n",
       "      <td>67727</td>\n",
       "      <td>Aïr and Ténéré Natural Reserves</td>\n",
       "      <td>language</td>\n",
       "      <td>1 -&gt; 2</td>\n",
       "    </tr>\n",
       "    <tr>\n",
       "      <th>25</th>\n",
       "      <td>4322</td>\n",
       "      <td>Ichkeul National Park</td>\n",
       "      <td>language</td>\n",
       "      <td>2 -&gt; 1</td>\n",
       "    </tr>\n",
       "    <tr>\n",
       "      <th>26</th>\n",
       "      <td>168242</td>\n",
       "      <td>East Rennell</td>\n",
       "      <td>outlook</td>\n",
       "      <td>Critical -&gt; Significant Concern</td>\n",
       "    </tr>\n",
       "    <tr>\n",
       "      <th>27</th>\n",
       "      <td>168242</td>\n",
       "      <td>East Rennell</td>\n",
       "      <td>wh_trend</td>\n",
       "      <td>Deteriorating -&gt; Data Deficient</td>\n",
       "    </tr>\n",
       "    <tr>\n",
       "      <th>28</th>\n",
       "      <td>903130</td>\n",
       "      <td>Jeju Volcanic Island and Lava Tubes</td>\n",
       "      <td>potential_threat</td>\n",
       "      <td>Very Low Threat -&gt; Low Threat</td>\n",
       "    </tr>\n",
       "    <tr>\n",
       "      <th>29</th>\n",
       "      <td>903130</td>\n",
       "      <td>Jeju Volcanic Island and Lava Tubes</td>\n",
       "      <td>biodiv_value</td>\n",
       "      <td>nan -&gt; Good</td>\n",
       "    </tr>\n",
       "    <tr>\n",
       "      <th>...</th>\n",
       "      <td>...</td>\n",
       "      <td>...</td>\n",
       "      <td>...</td>\n",
       "      <td>...</td>\n",
       "    </tr>\n",
       "    <tr>\n",
       "      <th>98</th>\n",
       "      <td>9623</td>\n",
       "      <td>Historic Sanctuary of Machu Picchu</td>\n",
       "      <td>current_threat</td>\n",
       "      <td>Very High Threat -&gt; nan</td>\n",
       "    </tr>\n",
       "    <tr>\n",
       "      <th>99</th>\n",
       "      <td>9623</td>\n",
       "      <td>Historic Sanctuary of Machu Picchu</td>\n",
       "      <td>potential_threat</td>\n",
       "      <td>Very High Threat -&gt; nan</td>\n",
       "    </tr>\n",
       "    <tr>\n",
       "      <th>100</th>\n",
       "      <td>9623</td>\n",
       "      <td>Historic Sanctuary of Machu Picchu</td>\n",
       "      <td>prot_mgmt</td>\n",
       "      <td>Some Concern -&gt; nan</td>\n",
       "    </tr>\n",
       "    <tr>\n",
       "      <th>101</th>\n",
       "      <td>9623</td>\n",
       "      <td>Historic Sanctuary of Machu Picchu</td>\n",
       "      <td>wh_value</td>\n",
       "      <td>High Concern -&gt; nan</td>\n",
       "    </tr>\n",
       "    <tr>\n",
       "      <th>102</th>\n",
       "      <td>9623</td>\n",
       "      <td>Historic Sanctuary of Machu Picchu</td>\n",
       "      <td>wh_trend</td>\n",
       "      <td>Deteriorating -&gt; nan</td>\n",
       "    </tr>\n",
       "    <tr>\n",
       "      <th>103</th>\n",
       "      <td>9623</td>\n",
       "      <td>Historic Sanctuary of Machu Picchu</td>\n",
       "      <td>biodiv_value</td>\n",
       "      <td>High Concern -&gt; nan</td>\n",
       "    </tr>\n",
       "    <tr>\n",
       "      <th>104</th>\n",
       "      <td>9623</td>\n",
       "      <td>Historic Sanctuary of Machu Picchu</td>\n",
       "      <td>biodiv_trend</td>\n",
       "      <td>Deteriorating -&gt; nan</td>\n",
       "    </tr>\n",
       "    <tr>\n",
       "      <th>105</th>\n",
       "      <td>2004</td>\n",
       "      <td>Dinosaur Provincial Park</td>\n",
       "      <td>potential_threat</td>\n",
       "      <td>Low Threat -&gt; Very Low Threat</td>\n",
       "    </tr>\n",
       "    <tr>\n",
       "      <th>106</th>\n",
       "      <td>2004</td>\n",
       "      <td>Dinosaur Provincial Park</td>\n",
       "      <td>wh_value</td>\n",
       "      <td>Low Concern -&gt; Good</td>\n",
       "    </tr>\n",
       "    <tr>\n",
       "      <th>107</th>\n",
       "      <td>2004</td>\n",
       "      <td>Dinosaur Provincial Park</td>\n",
       "      <td>biodiv_value</td>\n",
       "      <td>Low Concern -&gt; Good</td>\n",
       "    </tr>\n",
       "    <tr>\n",
       "      <th>108</th>\n",
       "      <td>12896</td>\n",
       "      <td>Henderson Island</td>\n",
       "      <td>prot_mgmt</td>\n",
       "      <td>Effective -&gt; Some Concern</td>\n",
       "    </tr>\n",
       "    <tr>\n",
       "      <th>109</th>\n",
       "      <td>2013</td>\n",
       "      <td>Yellowstone National Park</td>\n",
       "      <td>potential_threat</td>\n",
       "      <td>High Threat -&gt; Low Threat</td>\n",
       "    </tr>\n",
       "    <tr>\n",
       "      <th>110</th>\n",
       "      <td>2013</td>\n",
       "      <td>Yellowstone National Park</td>\n",
       "      <td>biodiv_value</td>\n",
       "      <td>High Concern -&gt; Good</td>\n",
       "    </tr>\n",
       "    <tr>\n",
       "      <th>111</th>\n",
       "      <td>2013</td>\n",
       "      <td>Yellowstone National Park</td>\n",
       "      <td>biodiv_trend</td>\n",
       "      <td>Data Deficient -&gt; Improving</td>\n",
       "    </tr>\n",
       "    <tr>\n",
       "      <th>112</th>\n",
       "      <td>10902</td>\n",
       "      <td>Wood Buffalo National Park</td>\n",
       "      <td>outlook</td>\n",
       "      <td>Good with some concerns -&gt; Significant Concern</td>\n",
       "    </tr>\n",
       "    <tr>\n",
       "      <th>113</th>\n",
       "      <td>10902</td>\n",
       "      <td>Wood Buffalo National Park</td>\n",
       "      <td>overall_threat</td>\n",
       "      <td>Low Threat -&gt; High Threat</td>\n",
       "    </tr>\n",
       "    <tr>\n",
       "      <th>114</th>\n",
       "      <td>10902</td>\n",
       "      <td>Wood Buffalo National Park</td>\n",
       "      <td>potential_threat</td>\n",
       "      <td>Low Threat -&gt; High Threat</td>\n",
       "    </tr>\n",
       "    <tr>\n",
       "      <th>115</th>\n",
       "      <td>10902</td>\n",
       "      <td>Wood Buffalo National Park</td>\n",
       "      <td>prot_mgmt</td>\n",
       "      <td>Effective -&gt; Serious Concern</td>\n",
       "    </tr>\n",
       "    <tr>\n",
       "      <th>116</th>\n",
       "      <td>10902</td>\n",
       "      <td>Wood Buffalo National Park</td>\n",
       "      <td>wh_value</td>\n",
       "      <td>Low Concern -&gt; High Concern</td>\n",
       "    </tr>\n",
       "    <tr>\n",
       "      <th>117</th>\n",
       "      <td>10902</td>\n",
       "      <td>Wood Buffalo National Park</td>\n",
       "      <td>wh_trend</td>\n",
       "      <td>Stable -&gt; Deteriorating</td>\n",
       "    </tr>\n",
       "    <tr>\n",
       "      <th>118</th>\n",
       "      <td>198291</td>\n",
       "      <td>Península Valdés</td>\n",
       "      <td>outlook</td>\n",
       "      <td>Good with some concerns -&gt; nan</td>\n",
       "    </tr>\n",
       "    <tr>\n",
       "      <th>119</th>\n",
       "      <td>198291</td>\n",
       "      <td>Península Valdés</td>\n",
       "      <td>overall_threat</td>\n",
       "      <td>Low Threat -&gt; nan</td>\n",
       "    </tr>\n",
       "    <tr>\n",
       "      <th>120</th>\n",
       "      <td>198291</td>\n",
       "      <td>Península Valdés</td>\n",
       "      <td>current_threat</td>\n",
       "      <td>Low Threat -&gt; nan</td>\n",
       "    </tr>\n",
       "    <tr>\n",
       "      <th>121</th>\n",
       "      <td>198291</td>\n",
       "      <td>Península Valdés</td>\n",
       "      <td>potential_threat</td>\n",
       "      <td>Low Threat -&gt; nan</td>\n",
       "    </tr>\n",
       "    <tr>\n",
       "      <th>122</th>\n",
       "      <td>198291</td>\n",
       "      <td>Península Valdés</td>\n",
       "      <td>prot_mgmt</td>\n",
       "      <td>Some Concern -&gt; nan</td>\n",
       "    </tr>\n",
       "    <tr>\n",
       "      <th>123</th>\n",
       "      <td>198291</td>\n",
       "      <td>Península Valdés</td>\n",
       "      <td>wh_value</td>\n",
       "      <td>Low Concern -&gt; nan</td>\n",
       "    </tr>\n",
       "    <tr>\n",
       "      <th>124</th>\n",
       "      <td>198291</td>\n",
       "      <td>Península Valdés</td>\n",
       "      <td>wh_trend</td>\n",
       "      <td>Stable -&gt; nan</td>\n",
       "    </tr>\n",
       "    <tr>\n",
       "      <th>125</th>\n",
       "      <td>198291</td>\n",
       "      <td>Península Valdés</td>\n",
       "      <td>biodiv_value</td>\n",
       "      <td>High Concern -&gt; nan</td>\n",
       "    </tr>\n",
       "    <tr>\n",
       "      <th>126</th>\n",
       "      <td>198291</td>\n",
       "      <td>Península Valdés</td>\n",
       "      <td>biodiv_trend</td>\n",
       "      <td>Stable -&gt; nan</td>\n",
       "    </tr>\n",
       "    <tr>\n",
       "      <th>127</th>\n",
       "      <td>5004</td>\n",
       "      <td>Aldabra Atoll</td>\n",
       "      <td>language</td>\n",
       "      <td>2 -&gt; 1</td>\n",
       "    </tr>\n",
       "  </tbody>\n",
       "</table>\n",
       "<p>128 rows × 4 columns</p>\n",
       "</div>"
      ],
      "text/plain": [
       "     wdpaid                                   en_name            column  \\\n",
       "0     26653  Tsingy de Bemaraha Strict Nature Reserve           outlook   \n",
       "1     26653  Tsingy de Bemaraha Strict Nature Reserve    overall_threat   \n",
       "2     26653  Tsingy de Bemaraha Strict Nature Reserve    current_threat   \n",
       "3     26653  Tsingy de Bemaraha Strict Nature Reserve  potential_threat   \n",
       "4     26653  Tsingy de Bemaraha Strict Nature Reserve         prot_mgmt   \n",
       "5     26653  Tsingy de Bemaraha Strict Nature Reserve          wh_value   \n",
       "6     26653  Tsingy de Bemaraha Strict Nature Reserve      biodiv_value   \n",
       "7     26653  Tsingy de Bemaraha Strict Nature Reserve      biodiv_trend   \n",
       "8     26653  Tsingy de Bemaraha Strict Nature Reserve          language   \n",
       "9     61608          Rwenzori Mountains National Park         prot_mgmt   \n",
       "10   902347        Cape Floral Region Protected Areas           outlook   \n",
       "11   902347        Cape Floral Region Protected Areas         prot_mgmt   \n",
       "12   902347        Cape Floral Region Protected Areas          wh_value   \n",
       "13   902347        Cape Floral Region Protected Areas          wh_trend   \n",
       "14    17761                 Kilimanjaro National Park      biodiv_value   \n",
       "15    17761                 Kilimanjaro National Park      biodiv_trend   \n",
       "16     4999                           Tassili n'Ajjer    overall_threat   \n",
       "17     4999                           Tassili n'Ajjer    current_threat   \n",
       "18     4999                           Tassili n'Ajjer          wh_value   \n",
       "19     2010              Ngorongoro Conservation Area      biodiv_value   \n",
       "20     2010              Ngorongoro Conservation Area      biodiv_trend   \n",
       "21   902487              Wadi Al-Hitan (Whale Valley)           outlook   \n",
       "22    67727           Aïr and Ténéré Natural Reserves  potential_threat   \n",
       "23    67727           Aïr and Ténéré Natural Reserves         prot_mgmt   \n",
       "24    67727           Aïr and Ténéré Natural Reserves          language   \n",
       "25     4322                     Ichkeul National Park          language   \n",
       "26   168242                              East Rennell           outlook   \n",
       "27   168242                              East Rennell          wh_trend   \n",
       "28   903130       Jeju Volcanic Island and Lava Tubes  potential_threat   \n",
       "29   903130       Jeju Volcanic Island and Lava Tubes      biodiv_value   \n",
       "..      ...                                       ...               ...   \n",
       "98     9623        Historic Sanctuary of Machu Picchu    current_threat   \n",
       "99     9623        Historic Sanctuary of Machu Picchu  potential_threat   \n",
       "100    9623        Historic Sanctuary of Machu Picchu         prot_mgmt   \n",
       "101    9623        Historic Sanctuary of Machu Picchu          wh_value   \n",
       "102    9623        Historic Sanctuary of Machu Picchu          wh_trend   \n",
       "103    9623        Historic Sanctuary of Machu Picchu      biodiv_value   \n",
       "104    9623        Historic Sanctuary of Machu Picchu      biodiv_trend   \n",
       "105    2004                  Dinosaur Provincial Park  potential_threat   \n",
       "106    2004                  Dinosaur Provincial Park          wh_value   \n",
       "107    2004                  Dinosaur Provincial Park      biodiv_value   \n",
       "108   12896                          Henderson Island         prot_mgmt   \n",
       "109    2013                 Yellowstone National Park  potential_threat   \n",
       "110    2013                 Yellowstone National Park      biodiv_value   \n",
       "111    2013                 Yellowstone National Park      biodiv_trend   \n",
       "112   10902                Wood Buffalo National Park           outlook   \n",
       "113   10902                Wood Buffalo National Park    overall_threat   \n",
       "114   10902                Wood Buffalo National Park  potential_threat   \n",
       "115   10902                Wood Buffalo National Park         prot_mgmt   \n",
       "116   10902                Wood Buffalo National Park          wh_value   \n",
       "117   10902                Wood Buffalo National Park          wh_trend   \n",
       "118  198291                          Península Valdés           outlook   \n",
       "119  198291                          Península Valdés    overall_threat   \n",
       "120  198291                          Península Valdés    current_threat   \n",
       "121  198291                          Península Valdés  potential_threat   \n",
       "122  198291                          Península Valdés         prot_mgmt   \n",
       "123  198291                          Península Valdés          wh_value   \n",
       "124  198291                          Península Valdés          wh_trend   \n",
       "125  198291                          Península Valdés      biodiv_value   \n",
       "126  198291                          Península Valdés      biodiv_trend   \n",
       "127    5004                             Aldabra Atoll          language   \n",
       "\n",
       "                                              value  \n",
       "0                   Good -> Good with some concerns  \n",
       "1                         Low Threat -> High Threat  \n",
       "2                         Low Threat -> High Threat  \n",
       "3                      Data Deficient -> Low Threat  \n",
       "4                                  Effective -> nan  \n",
       "5                               Low Concern -> Good  \n",
       "6                                       nan -> Good  \n",
       "7                                     nan -> Stable  \n",
       "8                                            1 -> 2  \n",
       "9                         Effective -> Some Concern  \n",
       "10   Good with some concerns -> Significant Concern  \n",
       "11                        Effective -> Some Concern  \n",
       "12                      Low Concern -> High Concern  \n",
       "13                          Stable -> Deteriorating  \n",
       "14                    Data Deficient -> Low Concern  \n",
       "15                  Data Deficient -> Deteriorating  \n",
       "16                    High Threat -> Data Deficient  \n",
       "17                    High Threat -> Data Deficient  \n",
       "18                              Low Concern -> Good  \n",
       "19                               nan -> Low Concern  \n",
       "20                            nan -> Data Deficient  \n",
       "21                  Good -> Good with some concerns  \n",
       "22                    Data Deficient -> High Threat  \n",
       "23                  Serious Concern -> Some Concern  \n",
       "24                                           1 -> 2  \n",
       "25                                           2 -> 1  \n",
       "26                  Critical -> Significant Concern  \n",
       "27                  Deteriorating -> Data Deficient  \n",
       "28                    Very Low Threat -> Low Threat  \n",
       "29                                      nan -> Good  \n",
       "..                                              ...  \n",
       "98                          Very High Threat -> nan  \n",
       "99                          Very High Threat -> nan  \n",
       "100                             Some Concern -> nan  \n",
       "101                             High Concern -> nan  \n",
       "102                            Deteriorating -> nan  \n",
       "103                             High Concern -> nan  \n",
       "104                            Deteriorating -> nan  \n",
       "105                   Low Threat -> Very Low Threat  \n",
       "106                             Low Concern -> Good  \n",
       "107                             Low Concern -> Good  \n",
       "108                       Effective -> Some Concern  \n",
       "109                       High Threat -> Low Threat  \n",
       "110                            High Concern -> Good  \n",
       "111                     Data Deficient -> Improving  \n",
       "112  Good with some concerns -> Significant Concern  \n",
       "113                       Low Threat -> High Threat  \n",
       "114                       Low Threat -> High Threat  \n",
       "115                    Effective -> Serious Concern  \n",
       "116                     Low Concern -> High Concern  \n",
       "117                         Stable -> Deteriorating  \n",
       "118                  Good with some concerns -> nan  \n",
       "119                               Low Threat -> nan  \n",
       "120                               Low Threat -> nan  \n",
       "121                               Low Threat -> nan  \n",
       "122                             Some Concern -> nan  \n",
       "123                              Low Concern -> nan  \n",
       "124                                   Stable -> nan  \n",
       "125                             High Concern -> nan  \n",
       "126                                   Stable -> nan  \n",
       "127                                          2 -> 1  \n",
       "\n",
       "[128 rows x 4 columns]"
      ]
     },
     "execution_count": 90,
     "metadata": {},
     "output_type": "execute_result"
    }
   ],
   "source": [
    "changed_stats"
   ]
  },
  {
   "cell_type": "markdown",
   "metadata": {
    "collapsed": true
   },
   "source": [
    "## Utility functions"
   ]
  },
  {
   "cell_type": "code",
   "execution_count": 108,
   "metadata": {},
   "outputs": [
    {
     "data": {
      "text/html": [
       "<div>\n",
       "<style>\n",
       "    .dataframe thead tr:only-child th {\n",
       "        text-align: right;\n",
       "    }\n",
       "\n",
       "    .dataframe thead th {\n",
       "        text-align: left;\n",
       "    }\n",
       "\n",
       "    .dataframe tbody tr th {\n",
       "        vertical-align: top;\n",
       "    }\n",
       "</style>\n",
       "<table border=\"1\" class=\"dataframe\">\n",
       "  <thead>\n",
       "    <tr style=\"text-align: right;\">\n",
       "      <th></th>\n",
       "      <th>wdpa_id</th>\n",
       "      <th>screenname</th>\n",
       "      <th>status</th>\n",
       "      <th>stage</th>\n",
       "      <th>name_en</th>\n",
       "      <th>threat_category</th>\n",
       "      <th>threat_sub_category</th>\n",
       "      <th>potential_threat</th>\n",
       "      <th>rating</th>\n",
       "      <th>inside_site</th>\n",
       "      <th>outside_site</th>\n",
       "      <th>assessment_cycle</th>\n",
       "    </tr>\n",
       "  </thead>\n",
       "  <tbody>\n",
       "    <tr>\n",
       "      <th>0</th>\n",
       "      <td>478640</td>\n",
       "      <td>elena</td>\n",
       "      <td>Completed</td>\n",
       "      <td>Published</td>\n",
       "      <td>Hierapolis-Pamukkale</td>\n",
       "      <td>Geological Events</td>\n",
       "      <td>Earthquakes/ Tsunamis</td>\n",
       "      <td>Earthquakes</td>\n",
       "      <td>Low Threat</td>\n",
       "      <td>1.0</td>\n",
       "      <td>0.0</td>\n",
       "      <td>2014</td>\n",
       "    </tr>\n",
       "    <tr>\n",
       "      <th>1</th>\n",
       "      <td>26653</td>\n",
       "      <td>elena</td>\n",
       "      <td>Completed</td>\n",
       "      <td>Published</td>\n",
       "      <td>Tsingy de Bemaraha Strict Nature Reserve</td>\n",
       "      <td>Climate Change and Severe Weather</td>\n",
       "      <td>Habitat Shifting/ Alteration</td>\n",
       "      <td>Habitat shifting</td>\n",
       "      <td>Data Deficient</td>\n",
       "      <td>0.0</td>\n",
       "      <td>0.0</td>\n",
       "      <td>2014</td>\n",
       "    </tr>\n",
       "    <tr>\n",
       "      <th>2</th>\n",
       "      <td>26653</td>\n",
       "      <td>elena</td>\n",
       "      <td>Completed</td>\n",
       "      <td>Published</td>\n",
       "      <td>Tsingy de Bemaraha Strict Nature Reserve</td>\n",
       "      <td>Climate Change and Severe Weather</td>\n",
       "      <td>Droughts</td>\n",
       "      <td>Changes to rainfall patterns</td>\n",
       "      <td>Data Deficient</td>\n",
       "      <td>0.0</td>\n",
       "      <td>0.0</td>\n",
       "      <td>2014</td>\n",
       "    </tr>\n",
       "    <tr>\n",
       "      <th>3</th>\n",
       "      <td>26653</td>\n",
       "      <td>elena</td>\n",
       "      <td>Completed</td>\n",
       "      <td>Published</td>\n",
       "      <td>Tsingy de Bemaraha Strict Nature Reserve</td>\n",
       "      <td>Climate Change and Severe Weather</td>\n",
       "      <td>Temperature extremes</td>\n",
       "      <td>Temperature changes</td>\n",
       "      <td>Data Deficient</td>\n",
       "      <td>0.0</td>\n",
       "      <td>0.0</td>\n",
       "      <td>2014</td>\n",
       "    </tr>\n",
       "    <tr>\n",
       "      <th>4</th>\n",
       "      <td>26653</td>\n",
       "      <td>elena</td>\n",
       "      <td>Completed</td>\n",
       "      <td>Published</td>\n",
       "      <td>Tsingy de Bemaraha Strict Nature Reserve</td>\n",
       "      <td>Energy Production and Mining</td>\n",
       "      <td>Oil/ Gas exploration/development</td>\n",
       "      <td>Oil and gas</td>\n",
       "      <td>Data Deficient</td>\n",
       "      <td>0.0</td>\n",
       "      <td>0.0</td>\n",
       "      <td>2014</td>\n",
       "    </tr>\n",
       "  </tbody>\n",
       "</table>\n",
       "</div>"
      ],
      "text/plain": [
       "   wdpa_id screenname     status      stage  \\\n",
       "0   478640      elena  Completed  Published   \n",
       "1    26653      elena  Completed  Published   \n",
       "2    26653      elena  Completed  Published   \n",
       "3    26653      elena  Completed  Published   \n",
       "4    26653      elena  Completed  Published   \n",
       "\n",
       "                                    name_en  \\\n",
       "0                      Hierapolis-Pamukkale   \n",
       "1  Tsingy de Bemaraha Strict Nature Reserve   \n",
       "2  Tsingy de Bemaraha Strict Nature Reserve   \n",
       "3  Tsingy de Bemaraha Strict Nature Reserve   \n",
       "4  Tsingy de Bemaraha Strict Nature Reserve   \n",
       "\n",
       "                     threat_category               threat_sub_category  \\\n",
       "0                  Geological Events             Earthquakes/ Tsunamis   \n",
       "1  Climate Change and Severe Weather      Habitat Shifting/ Alteration   \n",
       "2  Climate Change and Severe Weather                          Droughts   \n",
       "3  Climate Change and Severe Weather              Temperature extremes   \n",
       "4       Energy Production and Mining  Oil/ Gas exploration/development   \n",
       "\n",
       "               potential_threat          rating  inside_site  outside_site  \\\n",
       "0                   Earthquakes      Low Threat          1.0           0.0   \n",
       "1              Habitat shifting  Data Deficient          0.0           0.0   \n",
       "2  Changes to rainfall patterns  Data Deficient          0.0           0.0   \n",
       "3           Temperature changes  Data Deficient          0.0           0.0   \n",
       "4                   Oil and gas  Data Deficient          0.0           0.0   \n",
       "\n",
       "   assessment_cycle  \n",
       "0              2014  \n",
       "1              2014  \n",
       "2              2014  \n",
       "3              2014  \n",
       "4              2014  "
      ]
     },
     "execution_count": 108,
     "metadata": {},
     "output_type": "execute_result"
    }
   ],
   "source": [
    "potential_threat.head()"
   ]
  },
  {
   "cell_type": "code",
   "execution_count": 104,
   "metadata": {
    "collapsed": true
   },
   "outputs": [],
   "source": [
    "def gen_find_df_records(df):\n",
    "    # generate functions for inspection\n",
    "    if 'wdpa_id' not in df.columns.tolist() or 'assessment_cycle' not in df.columns.tolist():\n",
    "        raise Exception('wdpa_id or assessment_cycle not present in the input dataframe')\n",
    "    \n",
    "    def find_df_records(wdpaid, cycle):\n",
    "        return df[(df.assessment_cycle == cycle) & (df.wdpa_id == wdpaid)]\n",
    "        \n",
    "    return find_df_records\n",
    "    "
   ]
  },
  {
   "cell_type": "code",
   "execution_count": 106,
   "metadata": {},
   "outputs": [],
   "source": [
    "find_pm = gen_find_df_records(protection_management)"
   ]
  },
  {
   "cell_type": "code",
   "execution_count": 107,
   "metadata": {},
   "outputs": [
    {
     "data": {
      "text/html": [
       "<div>\n",
       "<style>\n",
       "    .dataframe thead tr:only-child th {\n",
       "        text-align: right;\n",
       "    }\n",
       "\n",
       "    .dataframe thead th {\n",
       "        text-align: left;\n",
       "    }\n",
       "\n",
       "    .dataframe tbody tr th {\n",
       "        vertical-align: top;\n",
       "    }\n",
       "</style>\n",
       "<table border=\"1\" class=\"dataframe\">\n",
       "  <thead>\n",
       "    <tr style=\"text-align: right;\">\n",
       "      <th></th>\n",
       "      <th>wdpa_id</th>\n",
       "      <th>screenname</th>\n",
       "      <th>status</th>\n",
       "      <th>stage</th>\n",
       "      <th>name_en</th>\n",
       "      <th>topic</th>\n",
       "      <th>pm_rating</th>\n",
       "      <th>assessment_cycle</th>\n",
       "    </tr>\n",
       "  </thead>\n",
       "  <tbody>\n",
       "    <tr>\n",
       "      <th>2394</th>\n",
       "      <td>191</td>\n",
       "      <td>elena</td>\n",
       "      <td>Completed</td>\n",
       "      <td>Published</td>\n",
       "      <td>Galápagos Islands</td>\n",
       "      <td>Relationships with local people (including sta...</td>\n",
       "      <td>Some Concern</td>\n",
       "      <td>2014</td>\n",
       "    </tr>\n",
       "    <tr>\n",
       "      <th>2395</th>\n",
       "      <td>191</td>\n",
       "      <td>elena</td>\n",
       "      <td>Completed</td>\n",
       "      <td>Published</td>\n",
       "      <td>Galápagos Islands</td>\n",
       "      <td>Legal framework</td>\n",
       "      <td>Some Concern</td>\n",
       "      <td>2014</td>\n",
       "    </tr>\n",
       "    <tr>\n",
       "      <th>2396</th>\n",
       "      <td>191</td>\n",
       "      <td>elena</td>\n",
       "      <td>Completed</td>\n",
       "      <td>Published</td>\n",
       "      <td>Galápagos Islands</td>\n",
       "      <td>Integration into regional and national plannin...</td>\n",
       "      <td>Some Concern</td>\n",
       "      <td>2014</td>\n",
       "    </tr>\n",
       "    <tr>\n",
       "      <th>2397</th>\n",
       "      <td>191</td>\n",
       "      <td>elena</td>\n",
       "      <td>Completed</td>\n",
       "      <td>Published</td>\n",
       "      <td>Galápagos Islands</td>\n",
       "      <td>Management system (for transboundary/serial pr...</td>\n",
       "      <td>Effective</td>\n",
       "      <td>2014</td>\n",
       "    </tr>\n",
       "    <tr>\n",
       "      <th>2398</th>\n",
       "      <td>191</td>\n",
       "      <td>elena</td>\n",
       "      <td>Completed</td>\n",
       "      <td>Published</td>\n",
       "      <td>Galápagos Islands</td>\n",
       "      <td>Management effectiveness</td>\n",
       "      <td>Some Concern</td>\n",
       "      <td>2014</td>\n",
       "    </tr>\n",
       "    <tr>\n",
       "      <th>2399</th>\n",
       "      <td>191</td>\n",
       "      <td>elena</td>\n",
       "      <td>Completed</td>\n",
       "      <td>Published</td>\n",
       "      <td>Galápagos Islands</td>\n",
       "      <td>Implementation of Committee decisions and reco...</td>\n",
       "      <td>Some Concern</td>\n",
       "      <td>2014</td>\n",
       "    </tr>\n",
       "    <tr>\n",
       "      <th>2400</th>\n",
       "      <td>191</td>\n",
       "      <td>elena</td>\n",
       "      <td>Completed</td>\n",
       "      <td>Published</td>\n",
       "      <td>Galápagos Islands</td>\n",
       "      <td>Boundaries</td>\n",
       "      <td>Effective</td>\n",
       "      <td>2014</td>\n",
       "    </tr>\n",
       "    <tr>\n",
       "      <th>2401</th>\n",
       "      <td>191</td>\n",
       "      <td>elena</td>\n",
       "      <td>Completed</td>\n",
       "      <td>Published</td>\n",
       "      <td>Galápagos Islands</td>\n",
       "      <td>Sustainable finance</td>\n",
       "      <td>Effective</td>\n",
       "      <td>2014</td>\n",
       "    </tr>\n",
       "    <tr>\n",
       "      <th>2402</th>\n",
       "      <td>191</td>\n",
       "      <td>elena</td>\n",
       "      <td>Completed</td>\n",
       "      <td>Published</td>\n",
       "      <td>Galápagos Islands</td>\n",
       "      <td>Staff training and development</td>\n",
       "      <td>Serious Concern</td>\n",
       "      <td>2014</td>\n",
       "    </tr>\n",
       "    <tr>\n",
       "      <th>2403</th>\n",
       "      <td>191</td>\n",
       "      <td>elena</td>\n",
       "      <td>Completed</td>\n",
       "      <td>Published</td>\n",
       "      <td>Galápagos Islands</td>\n",
       "      <td>Sustainable use</td>\n",
       "      <td>Some Concern</td>\n",
       "      <td>2014</td>\n",
       "    </tr>\n",
       "    <tr>\n",
       "      <th>2404</th>\n",
       "      <td>191</td>\n",
       "      <td>elena</td>\n",
       "      <td>Completed</td>\n",
       "      <td>Published</td>\n",
       "      <td>Galápagos Islands</td>\n",
       "      <td>Education and interpretation programs</td>\n",
       "      <td>Effective</td>\n",
       "      <td>2014</td>\n",
       "    </tr>\n",
       "    <tr>\n",
       "      <th>2405</th>\n",
       "      <td>191</td>\n",
       "      <td>elena</td>\n",
       "      <td>Completed</td>\n",
       "      <td>Published</td>\n",
       "      <td>Galápagos Islands</td>\n",
       "      <td>Tourism and visitation management</td>\n",
       "      <td>Some Concern</td>\n",
       "      <td>2014</td>\n",
       "    </tr>\n",
       "    <tr>\n",
       "      <th>2406</th>\n",
       "      <td>191</td>\n",
       "      <td>elena</td>\n",
       "      <td>Completed</td>\n",
       "      <td>Published</td>\n",
       "      <td>Galápagos Islands</td>\n",
       "      <td>Monitoring</td>\n",
       "      <td>Effective</td>\n",
       "      <td>2014</td>\n",
       "    </tr>\n",
       "    <tr>\n",
       "      <th>2407</th>\n",
       "      <td>191</td>\n",
       "      <td>elena</td>\n",
       "      <td>Completed</td>\n",
       "      <td>Published</td>\n",
       "      <td>Galápagos Islands</td>\n",
       "      <td>Research</td>\n",
       "      <td>Effective</td>\n",
       "      <td>2014</td>\n",
       "    </tr>\n",
       "  </tbody>\n",
       "</table>\n",
       "</div>"
      ],
      "text/plain": [
       "      wdpa_id screenname     status      stage            name_en  \\\n",
       "2394      191      elena  Completed  Published  Galápagos Islands   \n",
       "2395      191      elena  Completed  Published  Galápagos Islands   \n",
       "2396      191      elena  Completed  Published  Galápagos Islands   \n",
       "2397      191      elena  Completed  Published  Galápagos Islands   \n",
       "2398      191      elena  Completed  Published  Galápagos Islands   \n",
       "2399      191      elena  Completed  Published  Galápagos Islands   \n",
       "2400      191      elena  Completed  Published  Galápagos Islands   \n",
       "2401      191      elena  Completed  Published  Galápagos Islands   \n",
       "2402      191      elena  Completed  Published  Galápagos Islands   \n",
       "2403      191      elena  Completed  Published  Galápagos Islands   \n",
       "2404      191      elena  Completed  Published  Galápagos Islands   \n",
       "2405      191      elena  Completed  Published  Galápagos Islands   \n",
       "2406      191      elena  Completed  Published  Galápagos Islands   \n",
       "2407      191      elena  Completed  Published  Galápagos Islands   \n",
       "\n",
       "                                                  topic        pm_rating  \\\n",
       "2394  Relationships with local people (including sta...     Some Concern   \n",
       "2395                                    Legal framework     Some Concern   \n",
       "2396  Integration into regional and national plannin...     Some Concern   \n",
       "2397  Management system (for transboundary/serial pr...        Effective   \n",
       "2398                           Management effectiveness     Some Concern   \n",
       "2399  Implementation of Committee decisions and reco...     Some Concern   \n",
       "2400                                         Boundaries        Effective   \n",
       "2401                                Sustainable finance        Effective   \n",
       "2402                     Staff training and development  Serious Concern   \n",
       "2403                                    Sustainable use     Some Concern   \n",
       "2404              Education and interpretation programs        Effective   \n",
       "2405                  Tourism and visitation management     Some Concern   \n",
       "2406                                         Monitoring        Effective   \n",
       "2407                                           Research        Effective   \n",
       "\n",
       "      assessment_cycle  \n",
       "2394              2014  \n",
       "2395              2014  \n",
       "2396              2014  \n",
       "2397              2014  \n",
       "2398              2014  \n",
       "2399              2014  \n",
       "2400              2014  \n",
       "2401              2014  \n",
       "2402              2014  \n",
       "2403              2014  \n",
       "2404              2014  \n",
       "2405              2014  \n",
       "2406              2014  \n",
       "2407              2014  "
      ]
     },
     "execution_count": 107,
     "metadata": {},
     "output_type": "execute_result"
    }
   ],
   "source": [
    "find_pm(191, 2014)"
   ]
  },
  {
   "cell_type": "code",
   "execution_count": 109,
   "metadata": {
    "collapsed": true
   },
   "outputs": [],
   "source": [
    "find_overall = gen_find_df_records(overall)\n",
    "find_current_threat = gen_find_df_records(current_threat)\n",
    "find_potential_threat = gen_find_df_records(potential_threat)\n",
    "find_protection_management = gen_find_df_records(protection_management)\n",
    "find_value_current_threat = gen_find_df_records(value_current_threat)\n",
    "find_value_potential_threat = gen_find_df_records(value_potential_threat)"
   ]
  },
  {
   "cell_type": "code",
   "execution_count": 110,
   "metadata": {},
   "outputs": [
    {
     "data": {
      "text/html": [
       "<div>\n",
       "<style>\n",
       "    .dataframe thead tr:only-child th {\n",
       "        text-align: right;\n",
       "    }\n",
       "\n",
       "    .dataframe thead th {\n",
       "        text-align: left;\n",
       "    }\n",
       "\n",
       "    .dataframe tbody tr th {\n",
       "        vertical-align: top;\n",
       "    }\n",
       "</style>\n",
       "<table border=\"1\" class=\"dataframe\">\n",
       "  <thead>\n",
       "    <tr style=\"text-align: right;\">\n",
       "      <th></th>\n",
       "      <th>wdpa_id</th>\n",
       "      <th>screenname</th>\n",
       "      <th>status</th>\n",
       "      <th>stage</th>\n",
       "      <th>name_en</th>\n",
       "      <th>outlook</th>\n",
       "      <th>overall_threat</th>\n",
       "      <th>current_threat</th>\n",
       "      <th>potential_threat</th>\n",
       "      <th>prot_mgmt</th>\n",
       "      <th>wh_value</th>\n",
       "      <th>wh_trend</th>\n",
       "      <th>biodiv_value</th>\n",
       "      <th>biodiv_trend</th>\n",
       "      <th>language</th>\n",
       "      <th>assessment_cycle</th>\n",
       "    </tr>\n",
       "  </thead>\n",
       "  <tbody>\n",
       "    <tr>\n",
       "      <th>177</th>\n",
       "      <td>191</td>\n",
       "      <td>elena</td>\n",
       "      <td>Completed</td>\n",
       "      <td>Published</td>\n",
       "      <td>Galápagos Islands</td>\n",
       "      <td>Significant Concern</td>\n",
       "      <td>Very High Threat</td>\n",
       "      <td>Very High Threat</td>\n",
       "      <td>Very High Threat</td>\n",
       "      <td>Effective</td>\n",
       "      <td>High Concern</td>\n",
       "      <td>Deteriorating</td>\n",
       "      <td>High Concern</td>\n",
       "      <td>Deteriorating</td>\n",
       "      <td>1</td>\n",
       "      <td>2014</td>\n",
       "    </tr>\n",
       "  </tbody>\n",
       "</table>\n",
       "</div>"
      ],
      "text/plain": [
       "     wdpa_id screenname     status      stage            name_en  \\\n",
       "177      191      elena  Completed  Published  Galápagos Islands   \n",
       "\n",
       "                 outlook    overall_threat    current_threat  \\\n",
       "177  Significant Concern  Very High Threat  Very High Threat   \n",
       "\n",
       "     potential_threat  prot_mgmt      wh_value       wh_trend  biodiv_value  \\\n",
       "177  Very High Threat  Effective  High Concern  Deteriorating  High Concern   \n",
       "\n",
       "      biodiv_trend  language  assessment_cycle  \n",
       "177  Deteriorating         1              2014  "
      ]
     },
     "execution_count": 110,
     "metadata": {},
     "output_type": "execute_result"
    }
   ],
   "source": [
    "find_overall(191,2014)"
   ]
  },
  {
   "cell_type": "code",
   "execution_count": 111,
   "metadata": {},
   "outputs": [
    {
     "data": {
      "text/html": [
       "<div>\n",
       "<style>\n",
       "    .dataframe thead tr:only-child th {\n",
       "        text-align: right;\n",
       "    }\n",
       "\n",
       "    .dataframe thead th {\n",
       "        text-align: left;\n",
       "    }\n",
       "\n",
       "    .dataframe tbody tr th {\n",
       "        vertical-align: top;\n",
       "    }\n",
       "</style>\n",
       "<table border=\"1\" class=\"dataframe\">\n",
       "  <thead>\n",
       "    <tr style=\"text-align: right;\">\n",
       "      <th></th>\n",
       "      <th>wdpa_id</th>\n",
       "      <th>screenname</th>\n",
       "      <th>status</th>\n",
       "      <th>stage</th>\n",
       "      <th>name_en</th>\n",
       "      <th>threat_category</th>\n",
       "      <th>threat_sub_category</th>\n",
       "      <th>rating</th>\n",
       "      <th>inside_site</th>\n",
       "      <th>outside_site</th>\n",
       "      <th>assessment_version_id</th>\n",
       "      <th>assessment_cycle</th>\n",
       "    </tr>\n",
       "  </thead>\n",
       "  <tbody>\n",
       "    <tr>\n",
       "      <th>1156</th>\n",
       "      <td>191</td>\n",
       "      <td>elena</td>\n",
       "      <td>Completed</td>\n",
       "      <td>Published</td>\n",
       "      <td>Galápagos Islands</td>\n",
       "      <td>Transportation and Service Corridors</td>\n",
       "      <td>Shipping Lanes</td>\n",
       "      <td>High Threat</td>\n",
       "      <td>1.0</td>\n",
       "      <td>1.0</td>\n",
       "      <td>5742</td>\n",
       "      <td>2014</td>\n",
       "    </tr>\n",
       "    <tr>\n",
       "      <th>1158</th>\n",
       "      <td>191</td>\n",
       "      <td>elena</td>\n",
       "      <td>Completed</td>\n",
       "      <td>Published</td>\n",
       "      <td>Galápagos Islands</td>\n",
       "      <td>Invasive and Other Problematic Species and Genes</td>\n",
       "      <td>Invasive Non-Native/ Alien Species</td>\n",
       "      <td>Very High Threat</td>\n",
       "      <td>1.0</td>\n",
       "      <td>0.0</td>\n",
       "      <td>5742</td>\n",
       "      <td>2014</td>\n",
       "    </tr>\n",
       "    <tr>\n",
       "      <th>1159</th>\n",
       "      <td>191</td>\n",
       "      <td>elena</td>\n",
       "      <td>Completed</td>\n",
       "      <td>Published</td>\n",
       "      <td>Galápagos Islands</td>\n",
       "      <td>Human Intrusions and Disturbance</td>\n",
       "      <td>Tourism/ visitors/ recreation</td>\n",
       "      <td>Very High Threat</td>\n",
       "      <td>1.0</td>\n",
       "      <td>0.0</td>\n",
       "      <td>5742</td>\n",
       "      <td>2014</td>\n",
       "    </tr>\n",
       "    <tr>\n",
       "      <th>1160</th>\n",
       "      <td>191</td>\n",
       "      <td>elena</td>\n",
       "      <td>Completed</td>\n",
       "      <td>Published</td>\n",
       "      <td>Galápagos Islands</td>\n",
       "      <td>Biological Resource Use</td>\n",
       "      <td>Fishing / Harvesting Aquatic Resources</td>\n",
       "      <td>High Threat</td>\n",
       "      <td>1.0</td>\n",
       "      <td>0.0</td>\n",
       "      <td>5742</td>\n",
       "      <td>2014</td>\n",
       "    </tr>\n",
       "    <tr>\n",
       "      <th>1495</th>\n",
       "      <td>191</td>\n",
       "      <td>elena</td>\n",
       "      <td>Completed</td>\n",
       "      <td>Published</td>\n",
       "      <td>Galápagos Islands</td>\n",
       "      <td>Climate Change and Severe Weather</td>\n",
       "      <td>Temperature extremes</td>\n",
       "      <td>High Threat</td>\n",
       "      <td>1.0</td>\n",
       "      <td>0.0</td>\n",
       "      <td>5742</td>\n",
       "      <td>2014</td>\n",
       "    </tr>\n",
       "  </tbody>\n",
       "</table>\n",
       "</div>"
      ],
      "text/plain": [
       "      wdpa_id screenname     status      stage            name_en  \\\n",
       "1156      191      elena  Completed  Published  Galápagos Islands   \n",
       "1158      191      elena  Completed  Published  Galápagos Islands   \n",
       "1159      191      elena  Completed  Published  Galápagos Islands   \n",
       "1160      191      elena  Completed  Published  Galápagos Islands   \n",
       "1495      191      elena  Completed  Published  Galápagos Islands   \n",
       "\n",
       "                                       threat_category  \\\n",
       "1156              Transportation and Service Corridors   \n",
       "1158  Invasive and Other Problematic Species and Genes   \n",
       "1159                  Human Intrusions and Disturbance   \n",
       "1160                           Biological Resource Use   \n",
       "1495                 Climate Change and Severe Weather   \n",
       "\n",
       "                         threat_sub_category            rating  inside_site  \\\n",
       "1156                          Shipping Lanes       High Threat          1.0   \n",
       "1158      Invasive Non-Native/ Alien Species  Very High Threat          1.0   \n",
       "1159           Tourism/ visitors/ recreation  Very High Threat          1.0   \n",
       "1160  Fishing / Harvesting Aquatic Resources       High Threat          1.0   \n",
       "1495                    Temperature extremes       High Threat          1.0   \n",
       "\n",
       "      outside_site  assessment_version_id  assessment_cycle  \n",
       "1156           1.0                   5742              2014  \n",
       "1158           0.0                   5742              2014  \n",
       "1159           0.0                   5742              2014  \n",
       "1160           0.0                   5742              2014  \n",
       "1495           0.0                   5742              2014  "
      ]
     },
     "execution_count": 111,
     "metadata": {},
     "output_type": "execute_result"
    }
   ],
   "source": [
    "find_current_threat(191,2014)"
   ]
  },
  {
   "cell_type": "code",
   "execution_count": 112,
   "metadata": {},
   "outputs": [
    {
     "data": {
      "text/html": [
       "<div>\n",
       "<style>\n",
       "    .dataframe thead tr:only-child th {\n",
       "        text-align: right;\n",
       "    }\n",
       "\n",
       "    .dataframe thead th {\n",
       "        text-align: left;\n",
       "    }\n",
       "\n",
       "    .dataframe tbody tr th {\n",
       "        vertical-align: top;\n",
       "    }\n",
       "</style>\n",
       "<table border=\"1\" class=\"dataframe\">\n",
       "  <thead>\n",
       "    <tr style=\"text-align: right;\">\n",
       "      <th></th>\n",
       "      <th>wdpa_id</th>\n",
       "      <th>screenname</th>\n",
       "      <th>status</th>\n",
       "      <th>stage</th>\n",
       "      <th>name_en</th>\n",
       "      <th>threat_category</th>\n",
       "      <th>threat_sub_category</th>\n",
       "      <th>rating</th>\n",
       "      <th>inside_site</th>\n",
       "      <th>outside_site</th>\n",
       "      <th>assessment_version_id</th>\n",
       "      <th>assessment_cycle</th>\n",
       "    </tr>\n",
       "  </thead>\n",
       "  <tbody>\n",
       "    <tr>\n",
       "      <th>1646</th>\n",
       "      <td>191</td>\n",
       "      <td>wendy</td>\n",
       "      <td>In Progress</td>\n",
       "      <td>Assessment</td>\n",
       "      <td>Galápagos Islands</td>\n",
       "      <td>Transportation and Service Corridors</td>\n",
       "      <td>Shipping Lanes</td>\n",
       "      <td>High Threat</td>\n",
       "      <td>1.0</td>\n",
       "      <td>1.0</td>\n",
       "      <td>6966</td>\n",
       "      <td>2017</td>\n",
       "    </tr>\n",
       "    <tr>\n",
       "      <th>1754</th>\n",
       "      <td>191</td>\n",
       "      <td>wendy</td>\n",
       "      <td>In Progress</td>\n",
       "      <td>Assessment</td>\n",
       "      <td>Galápagos Islands</td>\n",
       "      <td>Invasive and Other Problematic Species and Genes</td>\n",
       "      <td>Invasive Non-Native/ Alien Species</td>\n",
       "      <td>Very High Threat</td>\n",
       "      <td>1.0</td>\n",
       "      <td>0.0</td>\n",
       "      <td>6966</td>\n",
       "      <td>2017</td>\n",
       "    </tr>\n",
       "    <tr>\n",
       "      <th>1755</th>\n",
       "      <td>191</td>\n",
       "      <td>wendy</td>\n",
       "      <td>In Progress</td>\n",
       "      <td>Assessment</td>\n",
       "      <td>Galápagos Islands</td>\n",
       "      <td>Human Intrusions and Disturbance</td>\n",
       "      <td>Tourism/ visitors/ recreation</td>\n",
       "      <td>Very High Threat</td>\n",
       "      <td>1.0</td>\n",
       "      <td>0.0</td>\n",
       "      <td>6966</td>\n",
       "      <td>2017</td>\n",
       "    </tr>\n",
       "    <tr>\n",
       "      <th>1756</th>\n",
       "      <td>191</td>\n",
       "      <td>wendy</td>\n",
       "      <td>In Progress</td>\n",
       "      <td>Assessment</td>\n",
       "      <td>Galápagos Islands</td>\n",
       "      <td>Biological Resource Use</td>\n",
       "      <td>Fishing / Harvesting Aquatic Resources</td>\n",
       "      <td>High Threat</td>\n",
       "      <td>1.0</td>\n",
       "      <td>0.0</td>\n",
       "      <td>6966</td>\n",
       "      <td>2017</td>\n",
       "    </tr>\n",
       "    <tr>\n",
       "      <th>1757</th>\n",
       "      <td>191</td>\n",
       "      <td>wendy</td>\n",
       "      <td>In Progress</td>\n",
       "      <td>Assessment</td>\n",
       "      <td>Galápagos Islands</td>\n",
       "      <td>Climate Change and Severe Weather</td>\n",
       "      <td>Temperature extremes</td>\n",
       "      <td>High Threat</td>\n",
       "      <td>1.0</td>\n",
       "      <td>0.0</td>\n",
       "      <td>6966</td>\n",
       "      <td>2017</td>\n",
       "    </tr>\n",
       "  </tbody>\n",
       "</table>\n",
       "</div>"
      ],
      "text/plain": [
       "      wdpa_id screenname       status       stage            name_en  \\\n",
       "1646      191      wendy  In Progress  Assessment  Galápagos Islands   \n",
       "1754      191      wendy  In Progress  Assessment  Galápagos Islands   \n",
       "1755      191      wendy  In Progress  Assessment  Galápagos Islands   \n",
       "1756      191      wendy  In Progress  Assessment  Galápagos Islands   \n",
       "1757      191      wendy  In Progress  Assessment  Galápagos Islands   \n",
       "\n",
       "                                       threat_category  \\\n",
       "1646              Transportation and Service Corridors   \n",
       "1754  Invasive and Other Problematic Species and Genes   \n",
       "1755                  Human Intrusions and Disturbance   \n",
       "1756                           Biological Resource Use   \n",
       "1757                 Climate Change and Severe Weather   \n",
       "\n",
       "                         threat_sub_category            rating  inside_site  \\\n",
       "1646                          Shipping Lanes       High Threat          1.0   \n",
       "1754      Invasive Non-Native/ Alien Species  Very High Threat          1.0   \n",
       "1755           Tourism/ visitors/ recreation  Very High Threat          1.0   \n",
       "1756  Fishing / Harvesting Aquatic Resources       High Threat          1.0   \n",
       "1757                    Temperature extremes       High Threat          1.0   \n",
       "\n",
       "      outside_site  assessment_version_id  assessment_cycle  \n",
       "1646           1.0                   6966              2017  \n",
       "1754           0.0                   6966              2017  \n",
       "1755           0.0                   6966              2017  \n",
       "1756           0.0                   6966              2017  \n",
       "1757           0.0                   6966              2017  "
      ]
     },
     "execution_count": 112,
     "metadata": {},
     "output_type": "execute_result"
    }
   ],
   "source": [
    "find_current_threat(191, 2017)"
   ]
  },
  {
   "cell_type": "code",
   "execution_count": 97,
   "metadata": {
    "collapsed": true
   },
   "outputs": [],
   "source": [
    "def find_threat_rows(wdpaid, cycle, current=True):\n",
    "    if current:\n",
    "        table = current_threat\n",
    "    else:\n",
    "        table = potential_threat\n",
    "        \n",
    "    return table[(table.assessment_cycle == cycle) & (table.wdpa_id == wdpaid)]"
   ]
  },
  {
   "cell_type": "code",
   "execution_count": 98,
   "metadata": {},
   "outputs": [
    {
     "data": {
      "text/html": [
       "<div>\n",
       "<style>\n",
       "    .dataframe thead tr:only-child th {\n",
       "        text-align: right;\n",
       "    }\n",
       "\n",
       "    .dataframe thead th {\n",
       "        text-align: left;\n",
       "    }\n",
       "\n",
       "    .dataframe tbody tr th {\n",
       "        vertical-align: top;\n",
       "    }\n",
       "</style>\n",
       "<table border=\"1\" class=\"dataframe\">\n",
       "  <thead>\n",
       "    <tr style=\"text-align: right;\">\n",
       "      <th></th>\n",
       "      <th>wdpa_id</th>\n",
       "      <th>screenname</th>\n",
       "      <th>status</th>\n",
       "      <th>stage</th>\n",
       "      <th>name_en</th>\n",
       "      <th>threat_category</th>\n",
       "      <th>threat_sub_category</th>\n",
       "      <th>rating</th>\n",
       "      <th>inside_site</th>\n",
       "      <th>outside_site</th>\n",
       "      <th>assessment_version_id</th>\n",
       "      <th>assessment_cycle</th>\n",
       "    </tr>\n",
       "  </thead>\n",
       "  <tbody>\n",
       "    <tr>\n",
       "      <th>1156</th>\n",
       "      <td>191</td>\n",
       "      <td>elena</td>\n",
       "      <td>Completed</td>\n",
       "      <td>Published</td>\n",
       "      <td>Galápagos Islands</td>\n",
       "      <td>Transportation and Service Corridors</td>\n",
       "      <td>Shipping Lanes</td>\n",
       "      <td>High Threat</td>\n",
       "      <td>1.0</td>\n",
       "      <td>1.0</td>\n",
       "      <td>5742</td>\n",
       "      <td>2014</td>\n",
       "    </tr>\n",
       "    <tr>\n",
       "      <th>1158</th>\n",
       "      <td>191</td>\n",
       "      <td>elena</td>\n",
       "      <td>Completed</td>\n",
       "      <td>Published</td>\n",
       "      <td>Galápagos Islands</td>\n",
       "      <td>Invasive and Other Problematic Species and Genes</td>\n",
       "      <td>Invasive Non-Native/ Alien Species</td>\n",
       "      <td>Very High Threat</td>\n",
       "      <td>1.0</td>\n",
       "      <td>0.0</td>\n",
       "      <td>5742</td>\n",
       "      <td>2014</td>\n",
       "    </tr>\n",
       "    <tr>\n",
       "      <th>1159</th>\n",
       "      <td>191</td>\n",
       "      <td>elena</td>\n",
       "      <td>Completed</td>\n",
       "      <td>Published</td>\n",
       "      <td>Galápagos Islands</td>\n",
       "      <td>Human Intrusions and Disturbance</td>\n",
       "      <td>Tourism/ visitors/ recreation</td>\n",
       "      <td>Very High Threat</td>\n",
       "      <td>1.0</td>\n",
       "      <td>0.0</td>\n",
       "      <td>5742</td>\n",
       "      <td>2014</td>\n",
       "    </tr>\n",
       "    <tr>\n",
       "      <th>1160</th>\n",
       "      <td>191</td>\n",
       "      <td>elena</td>\n",
       "      <td>Completed</td>\n",
       "      <td>Published</td>\n",
       "      <td>Galápagos Islands</td>\n",
       "      <td>Biological Resource Use</td>\n",
       "      <td>Fishing / Harvesting Aquatic Resources</td>\n",
       "      <td>High Threat</td>\n",
       "      <td>1.0</td>\n",
       "      <td>0.0</td>\n",
       "      <td>5742</td>\n",
       "      <td>2014</td>\n",
       "    </tr>\n",
       "    <tr>\n",
       "      <th>1495</th>\n",
       "      <td>191</td>\n",
       "      <td>elena</td>\n",
       "      <td>Completed</td>\n",
       "      <td>Published</td>\n",
       "      <td>Galápagos Islands</td>\n",
       "      <td>Climate Change and Severe Weather</td>\n",
       "      <td>Temperature extremes</td>\n",
       "      <td>High Threat</td>\n",
       "      <td>1.0</td>\n",
       "      <td>0.0</td>\n",
       "      <td>5742</td>\n",
       "      <td>2014</td>\n",
       "    </tr>\n",
       "  </tbody>\n",
       "</table>\n",
       "</div>"
      ],
      "text/plain": [
       "      wdpa_id screenname     status      stage            name_en  \\\n",
       "1156      191      elena  Completed  Published  Galápagos Islands   \n",
       "1158      191      elena  Completed  Published  Galápagos Islands   \n",
       "1159      191      elena  Completed  Published  Galápagos Islands   \n",
       "1160      191      elena  Completed  Published  Galápagos Islands   \n",
       "1495      191      elena  Completed  Published  Galápagos Islands   \n",
       "\n",
       "                                       threat_category  \\\n",
       "1156              Transportation and Service Corridors   \n",
       "1158  Invasive and Other Problematic Species and Genes   \n",
       "1159                  Human Intrusions and Disturbance   \n",
       "1160                           Biological Resource Use   \n",
       "1495                 Climate Change and Severe Weather   \n",
       "\n",
       "                         threat_sub_category            rating  inside_site  \\\n",
       "1156                          Shipping Lanes       High Threat          1.0   \n",
       "1158      Invasive Non-Native/ Alien Species  Very High Threat          1.0   \n",
       "1159           Tourism/ visitors/ recreation  Very High Threat          1.0   \n",
       "1160  Fishing / Harvesting Aquatic Resources       High Threat          1.0   \n",
       "1495                    Temperature extremes       High Threat          1.0   \n",
       "\n",
       "      outside_site  assessment_version_id  assessment_cycle  \n",
       "1156           1.0                   5742              2014  \n",
       "1158           0.0                   5742              2014  \n",
       "1159           0.0                   5742              2014  \n",
       "1160           0.0                   5742              2014  \n",
       "1495           0.0                   5742              2014  "
      ]
     },
     "execution_count": 98,
     "metadata": {},
     "output_type": "execute_result"
    }
   ],
   "source": [
    "find_threat_rows(191, 2014)"
   ]
  },
  {
   "cell_type": "code",
   "execution_count": 96,
   "metadata": {},
   "outputs": [
    {
     "data": {
      "text/html": [
       "<div>\n",
       "<style>\n",
       "    .dataframe thead tr:only-child th {\n",
       "        text-align: right;\n",
       "    }\n",
       "\n",
       "    .dataframe thead th {\n",
       "        text-align: left;\n",
       "    }\n",
       "\n",
       "    .dataframe tbody tr th {\n",
       "        vertical-align: top;\n",
       "    }\n",
       "</style>\n",
       "<table border=\"1\" class=\"dataframe\">\n",
       "  <thead>\n",
       "    <tr style=\"text-align: right;\">\n",
       "      <th></th>\n",
       "      <th>wdpa_id</th>\n",
       "      <th>screenname</th>\n",
       "      <th>status</th>\n",
       "      <th>stage</th>\n",
       "      <th>name_en</th>\n",
       "      <th>threat_category</th>\n",
       "      <th>threat_sub_category</th>\n",
       "      <th>potential_threat</th>\n",
       "      <th>rating</th>\n",
       "      <th>inside_site</th>\n",
       "      <th>outside_site</th>\n",
       "      <th>assessment_cycle</th>\n",
       "    </tr>\n",
       "  </thead>\n",
       "  <tbody>\n",
       "    <tr>\n",
       "      <th>394</th>\n",
       "      <td>2008</td>\n",
       "      <td>elena</td>\n",
       "      <td>Completed</td>\n",
       "      <td>Published</td>\n",
       "      <td>Bialowieza Forest</td>\n",
       "      <td>Climate Change and Severe Weather</td>\n",
       "      <td>Temperature extremes</td>\n",
       "      <td>Changes in temperature and precipitation</td>\n",
       "      <td>Data Deficient</td>\n",
       "      <td>1.0</td>\n",
       "      <td>1.0</td>\n",
       "      <td>2014</td>\n",
       "    </tr>\n",
       "    <tr>\n",
       "      <th>395</th>\n",
       "      <td>2008</td>\n",
       "      <td>elena</td>\n",
       "      <td>Completed</td>\n",
       "      <td>Published</td>\n",
       "      <td>Bialowieza Forest</td>\n",
       "      <td>Natural System Modifications</td>\n",
       "      <td>Fire/ Fire Suppression</td>\n",
       "      <td>Forest fires</td>\n",
       "      <td>Low Threat</td>\n",
       "      <td>1.0</td>\n",
       "      <td>1.0</td>\n",
       "      <td>2014</td>\n",
       "    </tr>\n",
       "  </tbody>\n",
       "</table>\n",
       "</div>"
      ],
      "text/plain": [
       "     wdpa_id screenname     status      stage            name_en  \\\n",
       "394     2008      elena  Completed  Published  Bialowieza Forest   \n",
       "395     2008      elena  Completed  Published  Bialowieza Forest   \n",
       "\n",
       "                       threat_category     threat_sub_category  \\\n",
       "394  Climate Change and Severe Weather    Temperature extremes   \n",
       "395       Natural System Modifications  Fire/ Fire Suppression   \n",
       "\n",
       "                             potential_threat          rating  inside_site  \\\n",
       "394  Changes in temperature and precipitation  Data Deficient          1.0   \n",
       "395                              Forest fires      Low Threat          1.0   \n",
       "\n",
       "     outside_site  assessment_cycle  \n",
       "394           1.0              2014  \n",
       "395           1.0              2014  "
      ]
     },
     "execution_count": 96,
     "metadata": {},
     "output_type": "execute_result"
    }
   ],
   "source": [
    "potential_threat[(potential_threat.assessment_cycle == 2014) & (potential_threat.wdpa_id == 2008)]"
   ]
  },
  {
   "cell_type": "code",
   "execution_count": 113,
   "metadata": {
    "collapsed": true
   },
   "outputs": [],
   "source": [
    "import plotly"
   ]
  },
  {
   "cell_type": "code",
   "execution_count": 115,
   "metadata": {},
   "outputs": [
    {
     "data": {
      "text/plain": [
       "'2.0.5'"
      ]
     },
     "execution_count": 115,
     "metadata": {},
     "output_type": "execute_result"
    }
   ],
   "source": [
    "plotly.__version__"
   ]
  },
  {
   "cell_type": "markdown",
   "metadata": {},
   "source": [
    "## Try plotly graphing"
   ]
  },
  {
   "cell_type": "code",
   "execution_count": 116,
   "metadata": {
    "collapsed": true
   },
   "outputs": [],
   "source": [
    "import plotly.plotly as py\n",
    "import plotly.figure_factory as ff"
   ]
  },
  {
   "cell_type": "code",
   "execution_count": 144,
   "metadata": {
    "collapsed": true
   },
   "outputs": [],
   "source": [
    "import plotly \n",
    "plotly.tools.set_credentials_file(username='yichuans', api_key='DjWuYpvtG8nFh8A9U8Jb')"
   ]
  },
  {
   "cell_type": "code",
   "execution_count": 145,
   "metadata": {
    "collapsed": true
   },
   "outputs": [],
   "source": [
    "from plotly.graph_objs import Bar"
   ]
  },
  {
   "cell_type": "code",
   "execution_count": 146,
   "metadata": {},
   "outputs": [],
   "source": [
    "df = summary_statistics(overall[CYCLE_2017_OVERALL], 'outlook')"
   ]
  },
  {
   "cell_type": "code",
   "execution_count": 147,
   "metadata": {},
   "outputs": [
    {
     "data": {
      "text/plain": [
       "[u'Critical', u'Good', u'Good with some concerns', u'Significant Concern']"
      ]
     },
     "execution_count": 147,
     "metadata": {},
     "output_type": "execute_result"
    }
   ],
   "source": [
    "df.columns.tolist()"
   ]
  },
  {
   "cell_type": "code",
   "execution_count": 151,
   "metadata": {},
   "outputs": [
    {
     "data": {
      "text/html": [
       "<iframe id=\"igraph\" scrolling=\"no\" style=\"border:none;\" seamless=\"seamless\" src=\"https://plot.ly/~yichuans/1.embed\" height=\"110px\" width=\"100%\"></iframe>"
      ],
      "text/plain": [
       "<plotly.tools.PlotlyDisplay object>"
      ]
     },
     "execution_count": 151,
     "metadata": {},
     "output_type": "execute_result"
    }
   ],
   "source": [
    "data = ff.create_table(df)\n",
    "\n",
    "py.iplot(data, filename='basic_bar')"
   ]
  },
  {
   "cell_type": "code",
   "execution_count": 152,
   "metadata": {},
   "outputs": [
    {
     "data": {
      "text/plain": [
       "{'data': [{'colorscale': [[0, '#00083e'], [0.5, '#ededee'], [1, '#ffffff']],\n",
       "   'hoverinfo': 'none',\n",
       "   'opacity': 0.75,\n",
       "   'showscale': False,\n",
       "   'type': 'heatmap',\n",
       "   'z': [[0, 0, 0, 0], [0.5, 0.5, 0.5, 0.5]]}],\n",
       " 'layout': {'annotations': [{'align': 'left',\n",
       "    'font': {'color': '#ffffff'},\n",
       "    'showarrow': False,\n",
       "    'text': '<b>Critical</b>',\n",
       "    'x': -0.45,\n",
       "    'xanchor': 'left',\n",
       "    'xref': 'x1',\n",
       "    'y': 0,\n",
       "    'yref': 'y1'},\n",
       "   {'align': 'left',\n",
       "    'font': {'color': '#ffffff'},\n",
       "    'showarrow': False,\n",
       "    'text': '<b>Good</b>',\n",
       "    'x': 0.55,\n",
       "    'xanchor': 'left',\n",
       "    'xref': 'x1',\n",
       "    'y': 0,\n",
       "    'yref': 'y1'},\n",
       "   {'align': 'left',\n",
       "    'font': {'color': '#ffffff'},\n",
       "    'showarrow': False,\n",
       "    'text': '<b>Good with some concerns</b>',\n",
       "    'x': 1.55,\n",
       "    'xanchor': 'left',\n",
       "    'xref': 'x1',\n",
       "    'y': 0,\n",
       "    'yref': 'y1'},\n",
       "   {'align': 'left',\n",
       "    'font': {'color': '#ffffff'},\n",
       "    'showarrow': False,\n",
       "    'text': '<b>Significant Concern</b>',\n",
       "    'x': 2.55,\n",
       "    'xanchor': 'left',\n",
       "    'xref': 'x1',\n",
       "    'y': 0,\n",
       "    'yref': 'y1'},\n",
       "   {'align': 'left',\n",
       "    'font': {'color': '#000000'},\n",
       "    'showarrow': False,\n",
       "    'text': '13',\n",
       "    'x': -0.45,\n",
       "    'xanchor': 'left',\n",
       "    'xref': 'x1',\n",
       "    'y': 1,\n",
       "    'yref': 'y1'},\n",
       "   {'align': 'left',\n",
       "    'font': {'color': '#000000'},\n",
       "    'showarrow': False,\n",
       "    'text': '21',\n",
       "    'x': 0.55,\n",
       "    'xanchor': 'left',\n",
       "    'xref': 'x1',\n",
       "    'y': 1,\n",
       "    'yref': 'y1'},\n",
       "   {'align': 'left',\n",
       "    'font': {'color': '#000000'},\n",
       "    'showarrow': False,\n",
       "    'text': '68',\n",
       "    'x': 1.55,\n",
       "    'xanchor': 'left',\n",
       "    'xref': 'x1',\n",
       "    'y': 1,\n",
       "    'yref': 'y1'},\n",
       "   {'align': 'left',\n",
       "    'font': {'color': '#000000'},\n",
       "    'showarrow': False,\n",
       "    'text': '49',\n",
       "    'x': 2.55,\n",
       "    'xanchor': 'left',\n",
       "    'xref': 'x1',\n",
       "    'y': 1,\n",
       "    'yref': 'y1'}],\n",
       "  'height': 110,\n",
       "  'margin': {'b': 0, 'l': 0, 'r': 0, 't': 0},\n",
       "  'xaxis': {'dtick': 1,\n",
       "   'gridwidth': 2,\n",
       "   'showticklabels': False,\n",
       "   'tick0': -0.5,\n",
       "   'ticks': '',\n",
       "   'zeroline': False},\n",
       "  'yaxis': {'autorange': 'reversed',\n",
       "   'dtick': 1,\n",
       "   'gridwidth': 2,\n",
       "   'showticklabels': False,\n",
       "   'tick0': 0.5,\n",
       "   'ticks': '',\n",
       "   'zeroline': False}}}"
      ]
     },
     "execution_count": 152,
     "metadata": {},
     "output_type": "execute_result"
    }
   ],
   "source": [
    "data"
   ]
  },
  {
   "cell_type": "code",
   "execution_count": null,
   "metadata": {
    "collapsed": true
   },
   "outputs": [],
   "source": []
  }
 ],
 "metadata": {
  "kernelspec": {
   "display_name": "Python 2",
   "language": "python",
   "name": "python2"
  },
  "language_info": {
   "codemirror_mode": {
    "name": "ipython",
    "version": 2
   },
   "file_extension": ".py",
   "mimetype": "text/x-python",
   "name": "python",
   "nbconvert_exporter": "python",
   "pygments_lexer": "ipython2",
   "version": "2.7.10"
  }
 },
 "nbformat": 4,
 "nbformat_minor": 2
}
